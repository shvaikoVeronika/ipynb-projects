{
 "cells": [
  {
   "cell_type": "markdown",
   "metadata": {
    "id": "u98L9TgH0eMk"
   },
   "source": [
    "# Разработка A/B-тестирования и анализ результатов\n",
    "\n",
    "Вы работаете продуктовым аналитиком в компании, которая разрабатывает развлекательное приложение с функцией «бесконечной» ленты, как, например, в приложениях с короткими видео. В вашем приложении существует две модели монетизации: первая — ежемесячная платная подписка, которая позволяет пользователям смотреть ленту без рекламы, вторая — демонстрация рекламы для пользователей, которые ещё не оформили подписку.\n",
    "\n",
    "Команда разработчиков рекомендательных систем создала новый алгоритм рекомендаций, который, по их мнению, будет показывать более интересный контент для каждого пользователя. Вас, как аналитика, просят помочь рассчитать параметры A/B-теста, который позволит проверить эту гипотезу, и проанализировать его результаты."
   ]
  },
  {
   "cell_type": "markdown",
   "metadata": {
    "id": "LJBRALHs0eMf"
   },
   "source": [
    "## Описание данных\n",
    "\n",
    "Вы будете работать с тремя таблицами:\n",
    "\n",
    "- `sessions_project_history.csv` — таблица с историческими данными по сессиям пользователей на период с 2025-08-15 по 2025-09-23. Путь к файлу: `/datasets/sessions_project_history.csv`.\n",
    "\n",
    "- `sessions_project_test_part.csv` — таблица с данными за первый день проведения A/B-теста, то есть за 2025-10-14. Путь к файлу: `/datasets/sessions_project_test_part.csv`.\n",
    "\n",
    "- `sessions_project_test.csv` — таблица с данными за весь период проведения A/B-теста, то есть с 2025-10-14 по 2025-11-02. Путь к файлу: `/datasets/sessions_project_test.csv`.\n",
    "\n",
    "У этих таблиц почти совпадает структура и содержание колонок, различаются лишь периоды наблюдения.\n",
    "\n",
    "Поля таблиц `sessions_project_history.csv`, `sessions_project_test.csv`, `sessions_project_test_part.csv`:\n",
    "\n",
    "- `user_id` — идентификатор пользователя;\n",
    "\n",
    "- `session_id` — идентификатор сессии в приложении;\n",
    "\n",
    "- `session_date` — дата сессии;\n",
    "\n",
    "- `session_start_ts` — дата и время начала сессии;\n",
    "\n",
    "- `install_date` — дата установки приложения;\n",
    "\n",
    "- `session_number` — порядковый номер сессии для конкретного пользователя;\n",
    "\n",
    "- `registration_flag` — является ли пользователь зарегистрированным;\n",
    "\n",
    "- `page_counter` — количество просмотренных страниц во время сессии;\n",
    "\n",
    "- `region` — регион пользователя;\n",
    "\n",
    "- `device` — тип устройства пользователя;\n",
    "\n",
    "- `test_group` — тестовая группа (в таблице с историческими данными этого столбца нет).\n",
    "\n",
    "\n",
    "## Что нужно сделать\n",
    "Ваши задачи: рассчитать параметры теста, оценить корректность его проведения и проанализировать результаты эксперимента."
   ]
  },
  {
   "cell_type": "markdown",
   "metadata": {
    "id": "UpOucjID0eMl"
   },
   "source": [
    "### 1. Работа с историческими данными (EDA)"
   ]
  },
  {
   "cell_type": "markdown",
   "metadata": {
    "id": "8iJMtL-30eMl"
   },
   "source": [
    "#### 1.1. Загрузка исторических данных\n",
    "На первом этапе поработайте с историческими данными приложения:\n",
    "\n",
    "- Импортируйте библиотеку pandas.\n",
    "\n",
    "- Считайте и сохраните в датафрейм `sessions_history` CSV-файл с историческими данными о сессиях пользователей `sessions_project_history.csv`.\n",
    "\n",
    "Выведите на экран первые пять строк полученного датафрейма."
   ]
  },
  {
   "cell_type": "code",
   "execution_count": null,
   "metadata": {
    "id": "6TPR2-1RPboT"
   },
   "outputs": [],
   "source": [
    "import pandas as pd\n",
    "import matplotlib.pyplot as plt\n",
    "from statsmodels.stats.power import NormalIndPower\n",
    "from statsmodels.stats.proportion import proportions_ztest\n",
    "from math import ceil\n",
    "from scipy.stats import ttest_ind"
   ]
  },
  {
   "cell_type": "code",
   "execution_count": 2,
   "metadata": {},
   "outputs": [
    {
     "data": {
      "text/html": [
       "<div>\n",
       "<style scoped>\n",
       "    .dataframe tbody tr th:only-of-type {\n",
       "        vertical-align: middle;\n",
       "    }\n",
       "\n",
       "    .dataframe tbody tr th {\n",
       "        vertical-align: top;\n",
       "    }\n",
       "\n",
       "    .dataframe thead th {\n",
       "        text-align: right;\n",
       "    }\n",
       "</style>\n",
       "<table border=\"1\" class=\"dataframe\">\n",
       "  <thead>\n",
       "    <tr style=\"text-align: right;\">\n",
       "      <th></th>\n",
       "      <th>user_id</th>\n",
       "      <th>session_id</th>\n",
       "      <th>session_date</th>\n",
       "      <th>session_start_ts</th>\n",
       "      <th>install_date</th>\n",
       "      <th>session_number</th>\n",
       "      <th>registration_flag</th>\n",
       "      <th>page_counter</th>\n",
       "      <th>region</th>\n",
       "      <th>device</th>\n",
       "    </tr>\n",
       "  </thead>\n",
       "  <tbody>\n",
       "    <tr>\n",
       "      <th>0</th>\n",
       "      <td>E302123B7000BFE4</td>\n",
       "      <td>F9AF61A0C2023832</td>\n",
       "      <td>2025-08-15</td>\n",
       "      <td>2025-08-15 17:47:35</td>\n",
       "      <td>2025-08-15</td>\n",
       "      <td>1</td>\n",
       "      <td>0</td>\n",
       "      <td>3</td>\n",
       "      <td>CIS</td>\n",
       "      <td>iPhone</td>\n",
       "    </tr>\n",
       "    <tr>\n",
       "      <th>1</th>\n",
       "      <td>2530F72E221829FB</td>\n",
       "      <td>85003A206CBDAC6F</td>\n",
       "      <td>2025-08-15</td>\n",
       "      <td>2025-08-15 16:42:14</td>\n",
       "      <td>2025-08-15</td>\n",
       "      <td>1</td>\n",
       "      <td>0</td>\n",
       "      <td>4</td>\n",
       "      <td>MENA</td>\n",
       "      <td>Android</td>\n",
       "    </tr>\n",
       "    <tr>\n",
       "      <th>2</th>\n",
       "      <td>876E020A4FC512F5</td>\n",
       "      <td>3677423E49D72DEE</td>\n",
       "      <td>2025-08-15</td>\n",
       "      <td>2025-08-15 12:30:00</td>\n",
       "      <td>2025-08-15</td>\n",
       "      <td>1</td>\n",
       "      <td>0</td>\n",
       "      <td>4</td>\n",
       "      <td>EU</td>\n",
       "      <td>PC</td>\n",
       "    </tr>\n",
       "    <tr>\n",
       "      <th>3</th>\n",
       "      <td>2640B349E1D81584</td>\n",
       "      <td>956B45F5915CA225</td>\n",
       "      <td>2025-08-15</td>\n",
       "      <td>2025-08-15 15:31:31</td>\n",
       "      <td>2025-08-15</td>\n",
       "      <td>1</td>\n",
       "      <td>0</td>\n",
       "      <td>4</td>\n",
       "      <td>CIS</td>\n",
       "      <td>Android</td>\n",
       "    </tr>\n",
       "    <tr>\n",
       "      <th>4</th>\n",
       "      <td>94E1CBFAEF1F5EE9</td>\n",
       "      <td>83BF0DA35F9F1F40</td>\n",
       "      <td>2025-08-15</td>\n",
       "      <td>2025-08-15 21:33:53</td>\n",
       "      <td>2025-08-15</td>\n",
       "      <td>1</td>\n",
       "      <td>0</td>\n",
       "      <td>3</td>\n",
       "      <td>CIS</td>\n",
       "      <td>Android</td>\n",
       "    </tr>\n",
       "  </tbody>\n",
       "</table>\n",
       "</div>"
      ],
      "text/plain": [
       "            user_id        session_id session_date     session_start_ts  \\\n",
       "0  E302123B7000BFE4  F9AF61A0C2023832   2025-08-15  2025-08-15 17:47:35   \n",
       "1  2530F72E221829FB  85003A206CBDAC6F   2025-08-15  2025-08-15 16:42:14   \n",
       "2  876E020A4FC512F5  3677423E49D72DEE   2025-08-15  2025-08-15 12:30:00   \n",
       "3  2640B349E1D81584  956B45F5915CA225   2025-08-15  2025-08-15 15:31:31   \n",
       "4  94E1CBFAEF1F5EE9  83BF0DA35F9F1F40   2025-08-15  2025-08-15 21:33:53   \n",
       "\n",
       "  install_date  session_number  registration_flag  page_counter region  \\\n",
       "0   2025-08-15               1                  0             3    CIS   \n",
       "1   2025-08-15               1                  0             4   MENA   \n",
       "2   2025-08-15               1                  0             4     EU   \n",
       "3   2025-08-15               1                  0             4    CIS   \n",
       "4   2025-08-15               1                  0             3    CIS   \n",
       "\n",
       "    device  \n",
       "0   iPhone  \n",
       "1  Android  \n",
       "2       PC  \n",
       "3  Android  \n",
       "4  Android  "
      ]
     },
     "execution_count": 2,
     "metadata": {},
     "output_type": "execute_result"
    }
   ],
   "source": [
    "sessions_history = pd.read_csv('https://code.s3.yandex.net/datasets/sessions_project_history.csv')\n",
    "sessions_history.head(5)"
   ]
  },
  {
   "cell_type": "markdown",
   "metadata": {
    "id": "qTDoiODz0eMo"
   },
   "source": [
    "#### 1.2. Знакомство с данными\n",
    "- Для каждого уникального пользователя `user_id` рассчитайте количество уникальных сессий `session_id`.\n",
    "\n",
    "- Выведите на экран все данные из таблицы `sessions_history` для одного пользователя с наибольшим количеством сессий. Если таких пользователей несколько, выберите любого из них.\n",
    "\n",
    "- Изучите таблицу для одного пользователя, чтобы лучше понять логику формирования каждого столбца данных.\n",
    "\n"
   ]
  },
  {
   "cell_type": "code",
   "execution_count": 3,
   "metadata": {
    "id": "PWZO9vTIPbPN",
    "scrolled": false
   },
   "outputs": [
    {
     "data": {
      "text/plain": [
       "user_id\n",
       "10E0DEFC1ABDBBE0    10\n",
       "6A73CB5566BB494D    10\n",
       "D11541BAC141FB94     9\n",
       "E8ADFF2913E86056     9\n",
       "FA752AB58040C361     9\n",
       "                    ..\n",
       "29643A4DF88AF0CD     1\n",
       "297264C724CBB558     1\n",
       "296E7BCDA4004B88     1\n",
       "296C03E6A6014B36     1\n",
       "B42D1E6D93C2DCE5     1\n",
       "Name: session_id, Length: 134039, dtype: int64"
      ]
     },
     "execution_count": 3,
     "metadata": {},
     "output_type": "execute_result"
    }
   ],
   "source": [
    "sessions_per_user = sessions_history.groupby('user_id')['session_id'].count().sort_values(ascending=False)\n",
    "sessions_per_user"
   ]
  },
  {
   "cell_type": "markdown",
   "metadata": {},
   "source": [
    "Как видим, самое большое количество сессий на одного пользователя - 10, таких пользователей всего 2. Выведем информацию для первого пользователя с количеством сессий 10."
   ]
  },
  {
   "cell_type": "code",
   "execution_count": 4,
   "metadata": {},
   "outputs": [
    {
     "data": {
      "text/html": [
       "<div>\n",
       "<style scoped>\n",
       "    .dataframe tbody tr th:only-of-type {\n",
       "        vertical-align: middle;\n",
       "    }\n",
       "\n",
       "    .dataframe tbody tr th {\n",
       "        vertical-align: top;\n",
       "    }\n",
       "\n",
       "    .dataframe thead th {\n",
       "        text-align: right;\n",
       "    }\n",
       "</style>\n",
       "<table border=\"1\" class=\"dataframe\">\n",
       "  <thead>\n",
       "    <tr style=\"text-align: right;\">\n",
       "      <th></th>\n",
       "      <th>user_id</th>\n",
       "      <th>session_id</th>\n",
       "      <th>session_date</th>\n",
       "      <th>session_start_ts</th>\n",
       "      <th>install_date</th>\n",
       "      <th>session_number</th>\n",
       "      <th>registration_flag</th>\n",
       "      <th>page_counter</th>\n",
       "      <th>region</th>\n",
       "      <th>device</th>\n",
       "    </tr>\n",
       "  </thead>\n",
       "  <tbody>\n",
       "    <tr>\n",
       "      <th>115558</th>\n",
       "      <td>10E0DEFC1ABDBBE0</td>\n",
       "      <td>B8F0423BBFFCF5DC</td>\n",
       "      <td>2025-08-14</td>\n",
       "      <td>2025-08-14 13:57:39</td>\n",
       "      <td>2025-08-14</td>\n",
       "      <td>1</td>\n",
       "      <td>0</td>\n",
       "      <td>4</td>\n",
       "      <td>CIS</td>\n",
       "      <td>Android</td>\n",
       "    </tr>\n",
       "    <tr>\n",
       "      <th>191751</th>\n",
       "      <td>10E0DEFC1ABDBBE0</td>\n",
       "      <td>87CA2FA549473837</td>\n",
       "      <td>2025-08-15</td>\n",
       "      <td>2025-08-15 16:42:10</td>\n",
       "      <td>2025-08-14</td>\n",
       "      <td>2</td>\n",
       "      <td>0</td>\n",
       "      <td>3</td>\n",
       "      <td>CIS</td>\n",
       "      <td>Android</td>\n",
       "    </tr>\n",
       "    <tr>\n",
       "      <th>239370</th>\n",
       "      <td>10E0DEFC1ABDBBE0</td>\n",
       "      <td>4ADD8011DCDCE318</td>\n",
       "      <td>2025-08-16</td>\n",
       "      <td>2025-08-16 19:53:21</td>\n",
       "      <td>2025-08-14</td>\n",
       "      <td>3</td>\n",
       "      <td>0</td>\n",
       "      <td>3</td>\n",
       "      <td>CIS</td>\n",
       "      <td>Android</td>\n",
       "    </tr>\n",
       "    <tr>\n",
       "      <th>274629</th>\n",
       "      <td>10E0DEFC1ABDBBE0</td>\n",
       "      <td>DF0FD0E09BF1F3D7</td>\n",
       "      <td>2025-08-17</td>\n",
       "      <td>2025-08-17 15:03:43</td>\n",
       "      <td>2025-08-14</td>\n",
       "      <td>4</td>\n",
       "      <td>0</td>\n",
       "      <td>1</td>\n",
       "      <td>CIS</td>\n",
       "      <td>Android</td>\n",
       "    </tr>\n",
       "    <tr>\n",
       "      <th>302501</th>\n",
       "      <td>10E0DEFC1ABDBBE0</td>\n",
       "      <td>3C221774B4DE6885</td>\n",
       "      <td>2025-08-18</td>\n",
       "      <td>2025-08-18 17:29:14</td>\n",
       "      <td>2025-08-14</td>\n",
       "      <td>5</td>\n",
       "      <td>0</td>\n",
       "      <td>4</td>\n",
       "      <td>CIS</td>\n",
       "      <td>Android</td>\n",
       "    </tr>\n",
       "    <tr>\n",
       "      <th>325557</th>\n",
       "      <td>10E0DEFC1ABDBBE0</td>\n",
       "      <td>031BD7A67048105B</td>\n",
       "      <td>2025-08-19</td>\n",
       "      <td>2025-08-19 13:23:55</td>\n",
       "      <td>2025-08-14</td>\n",
       "      <td>6</td>\n",
       "      <td>0</td>\n",
       "      <td>2</td>\n",
       "      <td>CIS</td>\n",
       "      <td>Android</td>\n",
       "    </tr>\n",
       "    <tr>\n",
       "      <th>345336</th>\n",
       "      <td>10E0DEFC1ABDBBE0</td>\n",
       "      <td>FF4315CF4AD4B100</td>\n",
       "      <td>2025-08-20</td>\n",
       "      <td>2025-08-20 19:31:54</td>\n",
       "      <td>2025-08-14</td>\n",
       "      <td>7</td>\n",
       "      <td>0</td>\n",
       "      <td>2</td>\n",
       "      <td>CIS</td>\n",
       "      <td>Android</td>\n",
       "    </tr>\n",
       "    <tr>\n",
       "      <th>377532</th>\n",
       "      <td>10E0DEFC1ABDBBE0</td>\n",
       "      <td>4045FEA0747203B4</td>\n",
       "      <td>2025-08-22</td>\n",
       "      <td>2025-08-22 17:54:13</td>\n",
       "      <td>2025-08-14</td>\n",
       "      <td>8</td>\n",
       "      <td>0</td>\n",
       "      <td>2</td>\n",
       "      <td>CIS</td>\n",
       "      <td>Android</td>\n",
       "    </tr>\n",
       "    <tr>\n",
       "      <th>403538</th>\n",
       "      <td>10E0DEFC1ABDBBE0</td>\n",
       "      <td>344B086C421C7F37</td>\n",
       "      <td>2025-08-24</td>\n",
       "      <td>2025-08-24 14:46:13</td>\n",
       "      <td>2025-08-14</td>\n",
       "      <td>9</td>\n",
       "      <td>0</td>\n",
       "      <td>2</td>\n",
       "      <td>CIS</td>\n",
       "      <td>Android</td>\n",
       "    </tr>\n",
       "    <tr>\n",
       "      <th>414743</th>\n",
       "      <td>10E0DEFC1ABDBBE0</td>\n",
       "      <td>054F20BA371E4C9D</td>\n",
       "      <td>2025-08-25</td>\n",
       "      <td>2025-08-25 18:36:41</td>\n",
       "      <td>2025-08-14</td>\n",
       "      <td>10</td>\n",
       "      <td>0</td>\n",
       "      <td>3</td>\n",
       "      <td>CIS</td>\n",
       "      <td>Android</td>\n",
       "    </tr>\n",
       "  </tbody>\n",
       "</table>\n",
       "</div>"
      ],
      "text/plain": [
       "                 user_id        session_id session_date     session_start_ts  \\\n",
       "115558  10E0DEFC1ABDBBE0  B8F0423BBFFCF5DC   2025-08-14  2025-08-14 13:57:39   \n",
       "191751  10E0DEFC1ABDBBE0  87CA2FA549473837   2025-08-15  2025-08-15 16:42:10   \n",
       "239370  10E0DEFC1ABDBBE0  4ADD8011DCDCE318   2025-08-16  2025-08-16 19:53:21   \n",
       "274629  10E0DEFC1ABDBBE0  DF0FD0E09BF1F3D7   2025-08-17  2025-08-17 15:03:43   \n",
       "302501  10E0DEFC1ABDBBE0  3C221774B4DE6885   2025-08-18  2025-08-18 17:29:14   \n",
       "325557  10E0DEFC1ABDBBE0  031BD7A67048105B   2025-08-19  2025-08-19 13:23:55   \n",
       "345336  10E0DEFC1ABDBBE0  FF4315CF4AD4B100   2025-08-20  2025-08-20 19:31:54   \n",
       "377532  10E0DEFC1ABDBBE0  4045FEA0747203B4   2025-08-22  2025-08-22 17:54:13   \n",
       "403538  10E0DEFC1ABDBBE0  344B086C421C7F37   2025-08-24  2025-08-24 14:46:13   \n",
       "414743  10E0DEFC1ABDBBE0  054F20BA371E4C9D   2025-08-25  2025-08-25 18:36:41   \n",
       "\n",
       "       install_date  session_number  registration_flag  page_counter region  \\\n",
       "115558   2025-08-14               1                  0             4    CIS   \n",
       "191751   2025-08-14               2                  0             3    CIS   \n",
       "239370   2025-08-14               3                  0             3    CIS   \n",
       "274629   2025-08-14               4                  0             1    CIS   \n",
       "302501   2025-08-14               5                  0             4    CIS   \n",
       "325557   2025-08-14               6                  0             2    CIS   \n",
       "345336   2025-08-14               7                  0             2    CIS   \n",
       "377532   2025-08-14               8                  0             2    CIS   \n",
       "403538   2025-08-14               9                  0             2    CIS   \n",
       "414743   2025-08-14              10                  0             3    CIS   \n",
       "\n",
       "         device  \n",
       "115558  Android  \n",
       "191751  Android  \n",
       "239370  Android  \n",
       "274629  Android  \n",
       "302501  Android  \n",
       "325557  Android  \n",
       "345336  Android  \n",
       "377532  Android  \n",
       "403538  Android  \n",
       "414743  Android  "
      ]
     },
     "execution_count": 4,
     "metadata": {},
     "output_type": "execute_result"
    }
   ],
   "source": [
    "sessions_history[sessions_history['user_id'] == sessions_per_user.index[0]]"
   ]
  },
  {
   "cell_type": "markdown",
   "metadata": {
    "id": "CmcGpJTP0eMq"
   },
   "source": [
    "#### 1.3. Анализ числа регистраций\n",
    "Одна из важнейших метрик продукта — число зарегистрированных пользователей. Используя исторические данные, визуализируйте, как менялось число регистраций в приложении за время его существования.\n",
    "\n",
    "- Агрегируйте исторические данные и рассчитайте число уникальных пользователей и число зарегистрированных пользователей для каждого дня наблюдения. Для простоты считайте, что у пользователя в течение дня бывает одна сессия максимум и статус регистрации в течение одного дня не может измениться.\n",
    "\n",
    "- Постройте линейные графики общего числа пользователей и общего числа зарегистрированных пользователей по дням. Отобразите их на одном графике.\n",
    "\n",
    "- Постройте отдельный линейный график доли зарегистрированных пользователей от всех пользователей по дням.\n",
    "\n",
    "- На обоих графиках должны быть заголовок, подписанные оси X и Y, сетка и легенда."
   ]
  },
  {
   "cell_type": "code",
   "execution_count": 5,
   "metadata": {
    "id": "tN_6Ml3EPatS"
   },
   "outputs": [
    {
     "data": {
      "text/html": [
       "<div>\n",
       "<style scoped>\n",
       "    .dataframe tbody tr th:only-of-type {\n",
       "        vertical-align: middle;\n",
       "    }\n",
       "\n",
       "    .dataframe tbody tr th {\n",
       "        vertical-align: top;\n",
       "    }\n",
       "\n",
       "    .dataframe thead th {\n",
       "        text-align: right;\n",
       "    }\n",
       "</style>\n",
       "<table border=\"1\" class=\"dataframe\">\n",
       "  <thead>\n",
       "    <tr style=\"text-align: right;\">\n",
       "      <th></th>\n",
       "      <th>session_date</th>\n",
       "      <th>unique_users</th>\n",
       "      <th>registered_users</th>\n",
       "      <th>share_of_registered</th>\n",
       "    </tr>\n",
       "  </thead>\n",
       "  <tbody>\n",
       "    <tr>\n",
       "      <th>0</th>\n",
       "      <td>2025-08-11</td>\n",
       "      <td>3919</td>\n",
       "      <td>169</td>\n",
       "      <td>0.043123</td>\n",
       "    </tr>\n",
       "    <tr>\n",
       "      <th>1</th>\n",
       "      <td>2025-08-12</td>\n",
       "      <td>6056</td>\n",
       "      <td>336</td>\n",
       "      <td>0.055482</td>\n",
       "    </tr>\n",
       "    <tr>\n",
       "      <th>2</th>\n",
       "      <td>2025-08-13</td>\n",
       "      <td>8489</td>\n",
       "      <td>464</td>\n",
       "      <td>0.054659</td>\n",
       "    </tr>\n",
       "    <tr>\n",
       "      <th>3</th>\n",
       "      <td>2025-08-14</td>\n",
       "      <td>10321</td>\n",
       "      <td>625</td>\n",
       "      <td>0.060556</td>\n",
       "    </tr>\n",
       "    <tr>\n",
       "      <th>4</th>\n",
       "      <td>2025-08-15</td>\n",
       "      <td>14065</td>\n",
       "      <td>840</td>\n",
       "      <td>0.059723</td>\n",
       "    </tr>\n",
       "  </tbody>\n",
       "</table>\n",
       "</div>"
      ],
      "text/plain": [
       "  session_date  unique_users  registered_users  share_of_registered\n",
       "0   2025-08-11          3919               169             0.043123\n",
       "1   2025-08-12          6056               336             0.055482\n",
       "2   2025-08-13          8489               464             0.054659\n",
       "3   2025-08-14         10321               625             0.060556\n",
       "4   2025-08-15         14065               840             0.059723"
      ]
     },
     "execution_count": 5,
     "metadata": {},
     "output_type": "execute_result"
    }
   ],
   "source": [
    "df_count = sessions_history.groupby('session_date').agg(unique_users=('user_id', 'nunique'), \n",
    "                                                       registered_users=('user_id', lambda x: \n",
    "                                           x[sessions_history.loc[x.index, 'registration_flag'] == 1].nunique())).reset_index()\n",
    "df_count['share_of_registered'] = df_count['registered_users'] / df_count['unique_users']\n",
    "df_count.head()"
   ]
  },
  {
   "cell_type": "code",
   "execution_count": 6,
   "metadata": {},
   "outputs": [
    {
     "data": {
      "image/png": "[encoded data removed]",
      "text/plain": [
       "<Figure size 2000x600 with 1 Axes>"
      ]
     },
     "metadata": {},
     "output_type": "display_data"
    }
   ],
   "source": [
    "fig, ax1 = plt.subplots(figsize=(20, 6))\n",
    "\n",
    "ax1.plot(df_count['session_date'], \n",
    "         df_count['unique_users'], \n",
    "         label='Общее число пользователей', \n",
    "         color='blue', \n",
    "         linewidth=2)\n",
    "ax1.plot(df_count['session_date'], \n",
    "         df_count['registered_users'], \n",
    "         label='Зарегистрированные пользователи', \n",
    "         color='green', \n",
    "         linewidth=2)\n",
    "\n",
    "ax1.set_xlabel('Дата')\n",
    "ax1.set_ylabel('Количество пользователей')\n",
    "\n",
    "ax1.grid(True)\n",
    "ax1.legend()\n",
    "fig.autofmt_xdate()\n",
    "\n",
    "plt.show() "
   ]
  },
  {
   "cell_type": "markdown",
   "metadata": {},
   "source": [
    "Как видно на графике, в самом начале работы приложения число пользователей значительно превышало количество зарегистрированных. Однако со временем эти показатели выровнялись, и общее число пользователей лишь незначительно превышает число зарегистрированных."
   ]
  },
  {
   "cell_type": "code",
   "execution_count": 7,
   "metadata": {},
   "outputs": [
    {
     "data": {
      "image/png": "[encoded data removed]",
      "text/plain": [
       "<Figure size 640x480 with 1 Axes>"
      ]
     },
     "metadata": {},
     "output_type": "display_data"
    }
   ],
   "source": [
    "df_count.plot.line(x='session_date',\n",
    "    y='share_of_registered',\n",
    "    label='Доля зарегистрированных пользователей',\n",
    "    title='Доля зарегистрированных пользователей от общего количества пользователей по дням'\n",
    ")\n",
    "    \n",
    "plt.xlabel('Дата')\n",
    "plt.ylabel('Доля зарегистрированных пользователей')\n",
    "\n",
    "plt.grid(True)\n",
    "plt.legend()\n",
    "# Показать график\n",
    "plt.show()"
   ]
  },
  {
   "cell_type": "markdown",
   "metadata": {},
   "source": [
    "На данном графике также видно, что со временем доля зарегистрированных пользователей увеличивается. Это позволяет сделать вывод, что именно зарегистрированные пользователи продолжают активно пользоваться приложением в долгосрочной перспективе."
   ]
  },
  {
   "cell_type": "markdown",
   "metadata": {
    "id": "UR7D7RhF0eMr"
   },
   "source": [
    "#### 1.4. Анализ числа просмотренных страниц\n",
    "Другая важная метрика продукта — число просмотренных страниц в приложении. Чем больше страниц просмотрено, тем сильнее пользователь увлечён контентом, а значит, выше шансы на то, что он зарегистрируется и оплатит подписку.\n",
    "\n",
    "- Найдите количество сессий для каждого значения количества просмотренных страниц. Например: одну страницу просмотрели в 29160 сессиях, две страницы в 105536 сессиях и так далее.\n",
    "\n",
    "- Постройте столбчатую диаграмму, где по оси X будет число просмотренных страниц, по оси Y — количество сессий.\n",
    "\n",
    "- На диаграмме должны быть заголовок, подписанные оси X и Y."
   ]
  },
  {
   "cell_type": "code",
   "execution_count": 8,
   "metadata": {
    "id": "cb6hPlVzPaSf",
    "scrolled": true
   },
   "outputs": [
    {
     "data": {
      "text/html": [
       "<div>\n",
       "<style scoped>\n",
       "    .dataframe tbody tr th:only-of-type {\n",
       "        vertical-align: middle;\n",
       "    }\n",
       "\n",
       "    .dataframe tbody tr th {\n",
       "        vertical-align: top;\n",
       "    }\n",
       "\n",
       "    .dataframe thead th {\n",
       "        text-align: right;\n",
       "    }\n",
       "</style>\n",
       "<table border=\"1\" class=\"dataframe\">\n",
       "  <thead>\n",
       "    <tr style=\"text-align: right;\">\n",
       "      <th></th>\n",
       "      <th>page_counter</th>\n",
       "      <th>sessions_count</th>\n",
       "    </tr>\n",
       "  </thead>\n",
       "  <tbody>\n",
       "    <tr>\n",
       "      <th>0</th>\n",
       "      <td>3</td>\n",
       "      <td>166690</td>\n",
       "    </tr>\n",
       "    <tr>\n",
       "      <th>1</th>\n",
       "      <td>4</td>\n",
       "      <td>105569</td>\n",
       "    </tr>\n",
       "    <tr>\n",
       "      <th>2</th>\n",
       "      <td>2</td>\n",
       "      <td>105536</td>\n",
       "    </tr>\n",
       "    <tr>\n",
       "      <th>3</th>\n",
       "      <td>1</td>\n",
       "      <td>29160</td>\n",
       "    </tr>\n",
       "    <tr>\n",
       "      <th>4</th>\n",
       "      <td>5</td>\n",
       "      <td>26288</td>\n",
       "    </tr>\n",
       "    <tr>\n",
       "      <th>5</th>\n",
       "      <td>6</td>\n",
       "      <td>2589</td>\n",
       "    </tr>\n",
       "    <tr>\n",
       "      <th>6</th>\n",
       "      <td>7</td>\n",
       "      <td>92</td>\n",
       "    </tr>\n",
       "  </tbody>\n",
       "</table>\n",
       "</div>"
      ],
      "text/plain": [
       "   page_counter  sessions_count\n",
       "0             3          166690\n",
       "1             4          105569\n",
       "2             2          105536\n",
       "3             1           29160\n",
       "4             5           26288\n",
       "5             6            2589\n",
       "6             7              92"
      ]
     },
     "execution_count": 8,
     "metadata": {},
     "output_type": "execute_result"
    }
   ],
   "source": [
    "sessions_per_pages = sessions_history.groupby('page_counter').agg(sessions_count=('session_id', 'count')).sort_values(by='sessions_count', ascending=False).reset_index()\n",
    "sessions_per_pages"
   ]
  },
  {
   "cell_type": "code",
   "execution_count": 9,
   "metadata": {},
   "outputs": [
    {
     "data": {
      "image/png": "[encoded data removed]",
      "text/plain": [
       "<Figure size 800x600 with 1 Axes>"
      ]
     },
     "metadata": {},
     "output_type": "display_data"
    }
   ],
   "source": [
    "# Построение столбчатой диаграммы\n",
    "sessions_per_pages.plot(x='page_counter', \n",
    "                        y='sessions_count', \n",
    "                        kind='bar', \n",
    "                        label='Количество сессий',\n",
    "                        figsize=(8, 6))\n",
    "\n",
    "# Добавляем подписи и заголовок\n",
    "plt.xlabel('Количество просмотренных страниц')\n",
    "plt.ylabel('Количество сессий')\n",
    "plt.title('Количество сессий для каждого значения количества просмотренных страниц')\n",
    "\n",
    "# Показать график\n",
    "plt.show()"
   ]
  },
  {
   "cell_type": "markdown",
   "metadata": {},
   "source": [
    "Видим, что в большинстве сессий просматривается 3 страницы. Меньше всего сессий завершаются просмотром 5 и более страниц."
   ]
  },
  {
   "cell_type": "markdown",
   "metadata": {
    "id": "xDltSpVP0eMr"
   },
   "source": [
    "#### 1.5. Доля пользователей, просмотревших более четырёх страниц\n",
    "Продуктовая команда продукта считает, что сессии, в рамках которых пользователь просмотрел 4 и более страниц, говорят об удовлетворённости контентом и алгоритмами рекомендаций. Этот показатель является важной прокси-метрикой для продукта.\n",
    "\n",
    "- В датафрейме `sessions_history` создайте дополнительный столбец `good_session`. В него войдёт значение `1`, если за одну сессию было просмотрено 4 и более страниц, и значение `0`, если было просмотрено меньше.\n",
    "\n",
    "- Постройте график со средним значением доли успешных сессий ко всем сессиям по дням за весь период наблюдения."
   ]
  },
  {
   "cell_type": "code",
   "execution_count": 10,
   "metadata": {
    "id": "iygaPfixPYMW"
   },
   "outputs": [],
   "source": [
    "sessions_history['good_session'] = (sessions_history['page_counter'] >= 4).astype(int)"
   ]
  },
  {
   "cell_type": "code",
   "execution_count": 11,
   "metadata": {
    "scrolled": false
   },
   "outputs": [
    {
     "data": {
      "text/html": [
       "<div>\n",
       "<style scoped>\n",
       "    .dataframe tbody tr th:only-of-type {\n",
       "        vertical-align: middle;\n",
       "    }\n",
       "\n",
       "    .dataframe tbody tr th {\n",
       "        vertical-align: top;\n",
       "    }\n",
       "\n",
       "    .dataframe thead th {\n",
       "        text-align: right;\n",
       "    }\n",
       "</style>\n",
       "<table border=\"1\" class=\"dataframe\">\n",
       "  <thead>\n",
       "    <tr style=\"text-align: right;\">\n",
       "      <th></th>\n",
       "      <th>session_date</th>\n",
       "      <th>success_rate</th>\n",
       "    </tr>\n",
       "  </thead>\n",
       "  <tbody>\n",
       "    <tr>\n",
       "      <th>0</th>\n",
       "      <td>2025-08-11</td>\n",
       "      <td>0.312835</td>\n",
       "    </tr>\n",
       "    <tr>\n",
       "      <th>1</th>\n",
       "      <td>2025-08-12</td>\n",
       "      <td>0.302015</td>\n",
       "    </tr>\n",
       "    <tr>\n",
       "      <th>2</th>\n",
       "      <td>2025-08-13</td>\n",
       "      <td>0.306750</td>\n",
       "    </tr>\n",
       "    <tr>\n",
       "      <th>3</th>\n",
       "      <td>2025-08-14</td>\n",
       "      <td>0.316055</td>\n",
       "    </tr>\n",
       "    <tr>\n",
       "      <th>4</th>\n",
       "      <td>2025-08-15</td>\n",
       "      <td>0.304941</td>\n",
       "    </tr>\n",
       "  </tbody>\n",
       "</table>\n",
       "</div>"
      ],
      "text/plain": [
       "  session_date  success_rate\n",
       "0   2025-08-11      0.312835\n",
       "1   2025-08-12      0.302015\n",
       "2   2025-08-13      0.306750\n",
       "3   2025-08-14      0.316055\n",
       "4   2025-08-15      0.304941"
      ]
     },
     "execution_count": 11,
     "metadata": {},
     "output_type": "execute_result"
    }
   ],
   "source": [
    "share_success_sessions = sessions_history.groupby('session_date').agg(\n",
    "    success_rate=('good_session', 'mean')\n",
    ").reset_index()\n",
    "\n",
    "# Выведем результаты\n",
    "share_success_sessions.head()"
   ]
  },
  {
   "cell_type": "code",
   "execution_count": 12,
   "metadata": {
    "scrolled": true
   },
   "outputs": [
    {
     "data": {
      "image/png": "[encoded data removed]",
      "text/plain": [
       "<Figure size 640x480 with 1 Axes>"
      ]
     },
     "metadata": {},
     "output_type": "display_data"
    }
   ],
   "source": [
    "# Строим линейный график\n",
    "share_success_sessions.plot(kind='line',  # Используем kind='line' для линейного графика\n",
    "              x='session_date', \n",
    "              y='success_rate', \n",
    "              label='Доля успешных сессий', \n",
    "              title='Доля сессий, в которые было просмотрено 4 и более страниц')\n",
    "\n",
    "# Подписываем оси и добавляем легенду\n",
    "plt.xlabel('Дата')\n",
    "plt.ylabel('Доля сессий')\n",
    "\n",
    "# Отображаем сетку и легенду\n",
    "plt.grid(True)\n",
    "plt.legend()\n",
    "\n",
    "# Показываем график\n",
    "plt.show()"
   ]
  },
  {
   "cell_type": "markdown",
   "metadata": {},
   "source": [
    "Как видно на графике, доля таких сессий колебалась от дня ко дню, оставаясь нестабильной. Однако в конце анализируемого периода можно заметить резкие скачки, а также некоторую тенденцию к снижению"
   ]
  },
  {
   "cell_type": "markdown",
   "metadata": {
    "id": "21JcG77Y0eMt"
   },
   "source": [
    "### 2. Подготовка к тесту\n",
    "При планировании теста необходимо проделать несколько важных шагов:\n",
    "\n",
    "- Определиться с целевой метрикой.\n",
    "\n",
    "- Рассчитать необходимый размер выборки.\n",
    "\n",
    "- Исходя из текущих значений трафика, рассчитать необходимую длительность проведения теста."
   ]
  },
  {
   "cell_type": "markdown",
   "metadata": {
    "id": "uzaeln270eMt"
   },
   "source": [
    "#### 2.1. Расчёт размера выборки\n",
    "В рамках курса вам уже приходилось рассчитывать размеры выборки, используя онлайн-калькуляторы. В этом задании предлагаем воспользоваться готовым кодом и рассчитать необходимое для вашего дизайна эксперимента количество пользователей.\n",
    "\n",
    "Для этого установите в коде ниже следующие параметры:\n",
    "\n",
    "- Уровень значимости — 0.05.\n",
    "\n",
    "- Вероятность ошибки второго рода — 0.2.\n",
    "\n",
    "- Мощность теста.\n",
    "\n",
    "- Минимальный детектируемый эффект, или MDE, — 3%. Обратите внимание, что здесь нужно указать десятичную дробь, а не процент.\n",
    "\n",
    "При расчёте размера выборки мы будем использовать метод `solve_power()` из класса `power.NormalIndPower` модуля `statsmodels.stats`.\n",
    "\n",
    "Запустите ячейку и изучите полученное значение."
   ]
  },
  {
   "cell_type": "code",
   "execution_count": 13,
   "metadata": {
    "id": "zSxJyPGPNdaI",
    "scrolled": true
   },
   "outputs": [
    {
     "data": {
      "text/plain": [
       "'Необходимый размер выборки для каждой группы: 17441'"
      ]
     },
     "metadata": {},
     "output_type": "display_data"
    }
   ],
   "source": [
    "# Задаём параметры\n",
    "alpha = 0.05  # Уровень значимости\n",
    "beta = 0.2  # Ошибка второго рода, часто 1 - мощность\n",
    "power = 1 - beta  # Мощность теста\n",
    "mde = 0.03  # Минимальный детектируемый эффект\n",
    "\n",
    "# Инициализируем класс NormalIndPower\n",
    "power_analysis = NormalIndPower()\n",
    "\n",
    "# Рассчитываем размер выборки\n",
    "sample_size = power_analysis.solve_power(\n",
    "    effect_size = mde,\n",
    "    power = power,\n",
    "    alpha = alpha,\n",
    "    ratio = 1 # Равномерное распределение выборок\n",
    ")\n",
    "\n",
    "display(f\"Необходимый размер выборки для каждой группы: {int(sample_size)}\")"
   ]
  },
  {
   "cell_type": "markdown",
   "metadata": {
    "id": "qLEv4RoV0eMu"
   },
   "source": [
    "#### 2.1. Расчёт длительности A/B-теста\n",
    "\n",
    "Используйте данные о количестве пользователей в каждой выборке и среднем количестве пользователей приложения. Рассчитайте длительность теста, разделив одно на другое.\n",
    "\n",
    "- Рассчитайте среднее количество уникальных пользователей приложения в день.\n",
    "\n",
    "- Определите длительность теста, исходя из рассчитанного значения размера выборок и среднего дневного трафика приложения. Количество дней округлите в большую сторону."
   ]
  },
  {
   "cell_type": "code",
   "execution_count": null,
   "metadata": {
    "id": "KZDRbryDOGHa"
   },
   "outputs": [
    {
     "data": {
      "text/plain": [
       "'Рассчитанная длительность A/B-теста при текущем уровене трафика в 9907.363636363636 пользователей в день составит 4 дней'"
      ]
     },
     "metadata": {},
     "output_type": "display_data"
    }
   ],
   "source": [
    "# Среднее количество пользователей приложения в день по историческим данным\n",
    "avg_daily_users = sessions_history['user_id'].count() / sessions_history['session_date'].nunique()\n",
    "\n",
    "# Рассчитываем длительность теста в днях как отношение размера выборки к среднему числу пользователей\n",
    "test_duration = ceil(sample_size*2/avg_daily_users)\n",
    "\n",
    "display(f\"Рассчитанная длительность A/B-теста при текущем уровене трафика в {avg_daily_users} пользователей в день составит {test_duration} дней\")"
   ]
  },
  {
   "cell_type": "markdown",
   "metadata": {},
   "source": [
    "Для проведения теста нам необходимо по 17441 участников для каждой выборки. Чтобы набрать такое количество участников необходимо будет проводить тест на протяжении 4-х дней. "
   ]
  },
  {
   "cell_type": "markdown",
   "metadata": {
    "id": "ZuvtAdha0eMv"
   },
   "source": [
    "### 3. Мониторинг А/В-теста"
   ]
  },
  {
   "cell_type": "markdown",
   "metadata": {
    "id": "jq5sE3Ya0eMv"
   },
   "source": [
    "#### 3.1. Проверка распределения пользователей\n",
    "\n",
    "A/B-тест успешно запущен, и уже доступны данные за первые три дня. На этом этапе нужно убедиться, что всё идёт хорошо: пользователи разделены правильным образом, а интересующие вас метрики корректно считаются.\n",
    "\n",
    "- Считайте и сохраните в датафрейм `sessions_test_part` CSV-файл с историческими данными о сессиях пользователей `sessions_project_test_part.csv`.\n",
    "\n",
    "- Рассчитайте количество уникальных пользователей в каждой из экспериментальных групп для одного дня наблюдения.\n",
    "\n",
    "- Рассчитайте и выведите на экран процентную разницу в количестве пользователей в группах A и B. Постройте любую удобную визуализацию, на которой можно было бы увидеть возможное различие двух групп.\n",
    "\n",
    "Для расчёта процентной разницы воспользуйтесь формулой:\n",
    "$$P = 100 \\cdot  \\frac{|A − B|}{A}$$"
   ]
  },
  {
   "cell_type": "code",
   "execution_count": 15,
   "metadata": {
    "id": "G1bqIzDJOUiz"
   },
   "outputs": [
    {
     "data": {
      "text/html": [
       "<div>\n",
       "<style scoped>\n",
       "    .dataframe tbody tr th:only-of-type {\n",
       "        vertical-align: middle;\n",
       "    }\n",
       "\n",
       "    .dataframe tbody tr th {\n",
       "        vertical-align: top;\n",
       "    }\n",
       "\n",
       "    .dataframe thead th {\n",
       "        text-align: right;\n",
       "    }\n",
       "</style>\n",
       "<table border=\"1\" class=\"dataframe\">\n",
       "  <thead>\n",
       "    <tr style=\"text-align: right;\">\n",
       "      <th></th>\n",
       "      <th>user_id</th>\n",
       "      <th>session_id</th>\n",
       "      <th>session_date</th>\n",
       "      <th>session_start_ts</th>\n",
       "      <th>install_date</th>\n",
       "      <th>session_number</th>\n",
       "      <th>registration_flag</th>\n",
       "      <th>page_counter</th>\n",
       "      <th>region</th>\n",
       "      <th>device</th>\n",
       "      <th>test_group</th>\n",
       "    </tr>\n",
       "  </thead>\n",
       "  <tbody>\n",
       "    <tr>\n",
       "      <th>0</th>\n",
       "      <td>3404844B53442747</td>\n",
       "      <td>B4901323BD537E45</td>\n",
       "      <td>2025-10-14</td>\n",
       "      <td>2025-10-14 19:28:49</td>\n",
       "      <td>2025-10-14</td>\n",
       "      <td>1</td>\n",
       "      <td>0</td>\n",
       "      <td>3</td>\n",
       "      <td>CIS</td>\n",
       "      <td>Android</td>\n",
       "      <td>B</td>\n",
       "    </tr>\n",
       "    <tr>\n",
       "      <th>1</th>\n",
       "      <td>3A2BF4D364E62D89</td>\n",
       "      <td>216FC619308F8788</td>\n",
       "      <td>2025-10-14</td>\n",
       "      <td>2025-10-14 21:11:04</td>\n",
       "      <td>2025-10-14</td>\n",
       "      <td>1</td>\n",
       "      <td>0</td>\n",
       "      <td>3</td>\n",
       "      <td>MENA</td>\n",
       "      <td>iPhone</td>\n",
       "      <td>A</td>\n",
       "    </tr>\n",
       "    <tr>\n",
       "      <th>2</th>\n",
       "      <td>79CDAE11E32B1597</td>\n",
       "      <td>EDFCE4AC1A504074</td>\n",
       "      <td>2025-10-14</td>\n",
       "      <td>2025-10-14 21:44:03</td>\n",
       "      <td>2025-10-14</td>\n",
       "      <td>1</td>\n",
       "      <td>0</td>\n",
       "      <td>3</td>\n",
       "      <td>CIS</td>\n",
       "      <td>iPhone</td>\n",
       "      <td>A</td>\n",
       "    </tr>\n",
       "    <tr>\n",
       "      <th>3</th>\n",
       "      <td>D6AF8D78297A931F</td>\n",
       "      <td>CF0AC0EEDE92C690</td>\n",
       "      <td>2025-10-14</td>\n",
       "      <td>2025-10-14 19:07:55</td>\n",
       "      <td>2025-10-14</td>\n",
       "      <td>1</td>\n",
       "      <td>0</td>\n",
       "      <td>4</td>\n",
       "      <td>CIS</td>\n",
       "      <td>PC</td>\n",
       "      <td>A</td>\n",
       "    </tr>\n",
       "    <tr>\n",
       "      <th>4</th>\n",
       "      <td>37E0CE723AE568E0</td>\n",
       "      <td>2E6ED45E8C86C4E9</td>\n",
       "      <td>2025-10-14</td>\n",
       "      <td>2025-10-14 15:39:44</td>\n",
       "      <td>2025-10-14</td>\n",
       "      <td>1</td>\n",
       "      <td>0</td>\n",
       "      <td>3</td>\n",
       "      <td>CIS</td>\n",
       "      <td>Mac</td>\n",
       "      <td>B</td>\n",
       "    </tr>\n",
       "  </tbody>\n",
       "</table>\n",
       "</div>"
      ],
      "text/plain": [
       "            user_id        session_id session_date     session_start_ts  \\\n",
       "0  3404844B53442747  B4901323BD537E45   2025-10-14  2025-10-14 19:28:49   \n",
       "1  3A2BF4D364E62D89  216FC619308F8788   2025-10-14  2025-10-14 21:11:04   \n",
       "2  79CDAE11E32B1597  EDFCE4AC1A504074   2025-10-14  2025-10-14 21:44:03   \n",
       "3  D6AF8D78297A931F  CF0AC0EEDE92C690   2025-10-14  2025-10-14 19:07:55   \n",
       "4  37E0CE723AE568E0  2E6ED45E8C86C4E9   2025-10-14  2025-10-14 15:39:44   \n",
       "\n",
       "  install_date  session_number  registration_flag  page_counter region  \\\n",
       "0   2025-10-14               1                  0             3    CIS   \n",
       "1   2025-10-14               1                  0             3   MENA   \n",
       "2   2025-10-14               1                  0             3    CIS   \n",
       "3   2025-10-14               1                  0             4    CIS   \n",
       "4   2025-10-14               1                  0             3    CIS   \n",
       "\n",
       "    device test_group  \n",
       "0  Android          B  \n",
       "1   iPhone          A  \n",
       "2   iPhone          A  \n",
       "3       PC          A  \n",
       "4      Mac          B  "
      ]
     },
     "execution_count": 15,
     "metadata": {},
     "output_type": "execute_result"
    }
   ],
   "source": [
    "sessions_test_part = pd.read_csv('https://code.s3.yandex.net/datasets/sessions_project_test_part.csv')\n",
    "sessions_test_part.head(5)"
   ]
  },
  {
   "cell_type": "code",
   "execution_count": 16,
   "metadata": {},
   "outputs": [
    {
     "data": {
      "text/plain": [
       "test_group\n",
       "A    1477\n",
       "B    1466\n",
       "Name: user_id, dtype: int64"
      ]
     },
     "execution_count": 16,
     "metadata": {},
     "output_type": "execute_result"
    }
   ],
   "source": [
    "unique_users_per_group = sessions_test_part.groupby('test_group')['user_id'].nunique()\n",
    "unique_users_per_group"
   ]
  },
  {
   "cell_type": "code",
   "execution_count": 17,
   "metadata": {},
   "outputs": [
    {
     "data": {
      "image/png": "[encoded data removed]",
      "text/plain": [
       "<Figure size 640x480 with 1 Axes>"
      ]
     },
     "metadata": {},
     "output_type": "display_data"
    }
   ],
   "source": [
    "unique_users_per_group.plot(\n",
    "    kind='pie',\n",
    "    title='Соотношение пользователей в тестовых группах',\n",
    "    autopct='%.1f',\n",
    "    ylabel='',\n",
    "    colors=['red', 'green']\n",
    ")\n",
    "\n",
    "plt.show()"
   ]
  },
  {
   "cell_type": "code",
   "execution_count": 18,
   "metadata": {},
   "outputs": [
    {
     "data": {
      "text/plain": [
       "np.float64(0.7447528774542993)"
      ]
     },
     "execution_count": 18,
     "metadata": {},
     "output_type": "execute_result"
    }
   ],
   "source": [
    "P = 100 * abs(unique_users_per_group['A'] - unique_users_per_group['B']) / unique_users_per_group['A']\n",
    "P "
   ]
  },
  {
   "cell_type": "markdown",
   "metadata": {},
   "source": [
    "Как мы видим, количество уникальных пользователей в каждой из групп распределено практически равномерно. Разница составляет менее 1%, что не является критичным для эксперимента."
   ]
  },
  {
   "cell_type": "markdown",
   "metadata": {
    "id": "sgpNY5bv0eM0"
   },
   "source": [
    "#### 3.2. Проверка пересечений пользователей\n",
    "Помимо проверки равенства количества пользователей в группах полезно убедиться в том, что группы независимы. Для этого нужно убедиться, что никто из пользователей случайно не попал в обе группы одновременно.\n",
    "\n",
    "- Рассчитайте количество пользователей, которые встречаются одновременно в группах A и B, или убедитесь, что таких нет."
   ]
  },
  {
   "cell_type": "code",
   "execution_count": 19,
   "metadata": {
    "id": "E72ozN9FOX1u"
   },
   "outputs": [
    {
     "data": {
      "text/plain": [
       "set()"
      ]
     },
     "execution_count": 19,
     "metadata": {},
     "output_type": "execute_result"
    }
   ],
   "source": [
    "a = set(sessions_test_part[sessions_test_part['test_group'] == 'A']['user_id'].unique())\n",
    "b = set(sessions_test_part[sessions_test_part['test_group'] == 'B']['user_id'].unique())\n",
    "result = a & b\n",
    "result"
   ]
  },
  {
   "cell_type": "markdown",
   "metadata": {},
   "source": [
    "Пользователи в двух группах не пересекаются. "
   ]
  },
  {
   "cell_type": "markdown",
   "metadata": {
    "id": "6RvkNLrg0eM1"
   },
   "source": [
    "#### 3.3. Равномерность разделения пользователей по устройствам\n",
    "Полезно также убедиться в том, что пользователи равномерно распределены по всем доступным категориальным переменным — типам устройства и регионам.\n",
    "\n",
    "Постройте две диаграммы:\n",
    "\n",
    "- доля каждого типа устройства для пользователей из группы A,\n",
    "\n",
    "- доля каждого типа устройства для пользователей из группы B.\n",
    "\n",
    "Постарайтесь добавить на диаграммы все необходимые подписи, пояснения и заголовки, которые позволят сделать вывод о том, совпадает ли распределение устройств в группах A и B.\n"
   ]
  },
  {
   "cell_type": "code",
   "execution_count": 20,
   "metadata": {},
   "outputs": [
    {
     "data": {
      "text/html": [
       "<div>\n",
       "<style scoped>\n",
       "    .dataframe tbody tr th:only-of-type {\n",
       "        vertical-align: middle;\n",
       "    }\n",
       "\n",
       "    .dataframe tbody tr th {\n",
       "        vertical-align: top;\n",
       "    }\n",
       "\n",
       "    .dataframe thead th {\n",
       "        text-align: right;\n",
       "    }\n",
       "</style>\n",
       "<table border=\"1\" class=\"dataframe\">\n",
       "  <thead>\n",
       "    <tr style=\"text-align: right;\">\n",
       "      <th></th>\n",
       "      <th>test_group</th>\n",
       "      <th>device</th>\n",
       "      <th>num_of_users</th>\n",
       "    </tr>\n",
       "  </thead>\n",
       "  <tbody>\n",
       "    <tr>\n",
       "      <th>0</th>\n",
       "      <td>A</td>\n",
       "      <td>Android</td>\n",
       "      <td>656</td>\n",
       "    </tr>\n",
       "    <tr>\n",
       "      <th>1</th>\n",
       "      <td>A</td>\n",
       "      <td>Mac</td>\n",
       "      <td>156</td>\n",
       "    </tr>\n",
       "    <tr>\n",
       "      <th>2</th>\n",
       "      <td>A</td>\n",
       "      <td>PC</td>\n",
       "      <td>369</td>\n",
       "    </tr>\n",
       "    <tr>\n",
       "      <th>3</th>\n",
       "      <td>A</td>\n",
       "      <td>iPhone</td>\n",
       "      <td>296</td>\n",
       "    </tr>\n",
       "    <tr>\n",
       "      <th>4</th>\n",
       "      <td>B</td>\n",
       "      <td>Android</td>\n",
       "      <td>668</td>\n",
       "    </tr>\n",
       "    <tr>\n",
       "      <th>5</th>\n",
       "      <td>B</td>\n",
       "      <td>Mac</td>\n",
       "      <td>148</td>\n",
       "    </tr>\n",
       "    <tr>\n",
       "      <th>6</th>\n",
       "      <td>B</td>\n",
       "      <td>PC</td>\n",
       "      <td>381</td>\n",
       "    </tr>\n",
       "    <tr>\n",
       "      <th>7</th>\n",
       "      <td>B</td>\n",
       "      <td>iPhone</td>\n",
       "      <td>269</td>\n",
       "    </tr>\n",
       "  </tbody>\n",
       "</table>\n",
       "</div>"
      ],
      "text/plain": [
       "  test_group   device  num_of_users\n",
       "0          A  Android           656\n",
       "1          A      Mac           156\n",
       "2          A       PC           369\n",
       "3          A   iPhone           296\n",
       "4          B  Android           668\n",
       "5          B      Mac           148\n",
       "6          B       PC           381\n",
       "7          B   iPhone           269"
      ]
     },
     "execution_count": 20,
     "metadata": {},
     "output_type": "execute_result"
    }
   ],
   "source": [
    "share_device_type = sessions_test_part.groupby(['test_group', 'device'])['user_id'].nunique().reset_index(name='num_of_users')\n",
    "share_device_type"
   ]
  },
  {
   "cell_type": "code",
   "execution_count": 21,
   "metadata": {},
   "outputs": [],
   "source": [
    "df_A = share_device_type[share_device_type['test_group'] == \"A\"]\n",
    "df_B = share_device_type[share_device_type['test_group'] == \"B\"]"
   ]
  },
  {
   "cell_type": "code",
   "execution_count": 22,
   "metadata": {},
   "outputs": [
    {
     "name": "stderr",
     "output_type": "stream",
     "text": [
      "C:\\Users\\Вероничка\\AppData\\Local\\Temp\\ipykernel_28720\\2735024390.py:1: SettingWithCopyWarning: \n",
      "A value is trying to be set on a copy of a slice from a DataFrame.\n",
      "Try using .loc[row_indexer,col_indexer] = value instead\n",
      "\n",
      "See the caveats in the documentation: https://pandas.pydata.org/pandas-docs/stable/user_guide/indexing.html#returning-a-view-versus-a-copy\n",
      "  df_A['share_d'] = df_A['num_of_users'] / df_A['num_of_users'].sum()\n",
      "C:\\Users\\Вероничка\\AppData\\Local\\Temp\\ipykernel_28720\\2735024390.py:2: SettingWithCopyWarning: \n",
      "A value is trying to be set on a copy of a slice from a DataFrame.\n",
      "Try using .loc[row_indexer,col_indexer] = value instead\n",
      "\n",
      "See the caveats in the documentation: https://pandas.pydata.org/pandas-docs/stable/user_guide/indexing.html#returning-a-view-versus-a-copy\n",
      "  df_B['share_d'] = df_B['num_of_users'] / df_B['num_of_users'].sum()\n"
     ]
    }
   ],
   "source": [
    "df_A['share_d'] = df_A['num_of_users'] / df_A['num_of_users'].sum() \n",
    "df_B['share_d'] = df_B['num_of_users'] / df_B['num_of_users'].sum()"
   ]
  },
  {
   "cell_type": "raw",
   "metadata": {
    "id": "x_IP6PUNPWHC"
   },
   "source": [
    "share_device_type = sessions_test_part.groupby('test_group')['device'].value_counts(normalize=True).reset_index(name='share_d')\n",
    "share_device_type"
   ]
  },
  {
   "cell_type": "raw",
   "metadata": {},
   "source": [
    "df_A = share_device_type[share_device_type['test_group'] == \"A\"]\n",
    "df_B = share_device_type[share_device_type['test_group'] == \"B\"]"
   ]
  },
  {
   "cell_type": "code",
   "execution_count": 23,
   "metadata": {},
   "outputs": [
    {
     "data": {
      "image/png": "[encoded data removed]",
      "text/plain": [
       "<Figure size 1200x600 with 2 Axes>"
      ]
     },
     "metadata": {},
     "output_type": "display_data"
    }
   ],
   "source": [
    "fig, axes = plt.subplots(1, 2, figsize=(12, 6))\n",
    "\n",
    "# Группа A\n",
    "axes[0].pie(df_A['share_d'], labels=df_A['device'], autopct='%1.1f%%')\n",
    "axes[0].set_title('Доли типов устройств (Группа A)')\n",
    "\n",
    "# Группа B\n",
    "axes[1].pie(df_B['share_d'], labels=df_B['device'], autopct='%1.1f%%')\n",
    "axes[1].set_title('Доли типов устройств (Группа B)')\n",
    "\n",
    "plt.show()"
   ]
  },
  {
   "cell_type": "markdown",
   "metadata": {},
   "source": [
    "Количество пользователей между типами устройств в двух группах распределяется почти равномерно, с разницей всего в 1–2%, что не является существенным."
   ]
  },
  {
   "cell_type": "markdown",
   "metadata": {
    "id": "gAgmP6vo0eM1"
   },
   "source": [
    "#### 3.4. Равномерность распределения пользователей по регионам\n",
    "Теперь убедитесь, что пользователи равномерно распределены по регионам.\n",
    "\n",
    "Постройте две диаграммы:\n",
    "\n",
    "- доля каждого региона для пользователей из группы A,\n",
    "\n",
    "- доля каждого региона для пользователей из группы B.\n",
    "\n",
    "Постарайтесь добавить на диаграммы все необходимые подписи, пояснения и заголовки, которые позволят сделать вывод о том, совпадает ли распределение регионов в группах A и B. Постарайтесь использовать другой тип диаграммы, не тот, что в прошлом задании.\n"
   ]
  },
  {
   "cell_type": "code",
   "execution_count": 24,
   "metadata": {},
   "outputs": [
    {
     "data": {
      "text/html": [
       "<div>\n",
       "<style scoped>\n",
       "    .dataframe tbody tr th:only-of-type {\n",
       "        vertical-align: middle;\n",
       "    }\n",
       "\n",
       "    .dataframe tbody tr th {\n",
       "        vertical-align: top;\n",
       "    }\n",
       "\n",
       "    .dataframe thead th {\n",
       "        text-align: right;\n",
       "    }\n",
       "</style>\n",
       "<table border=\"1\" class=\"dataframe\">\n",
       "  <thead>\n",
       "    <tr style=\"text-align: right;\">\n",
       "      <th></th>\n",
       "      <th>test_group</th>\n",
       "      <th>region</th>\n",
       "      <th>num_of_users</th>\n",
       "    </tr>\n",
       "  </thead>\n",
       "  <tbody>\n",
       "    <tr>\n",
       "      <th>0</th>\n",
       "      <td>A</td>\n",
       "      <td>CIS</td>\n",
       "      <td>644</td>\n",
       "    </tr>\n",
       "    <tr>\n",
       "      <th>1</th>\n",
       "      <td>A</td>\n",
       "      <td>EU</td>\n",
       "      <td>224</td>\n",
       "    </tr>\n",
       "    <tr>\n",
       "      <th>2</th>\n",
       "      <td>A</td>\n",
       "      <td>MENA</td>\n",
       "      <td>609</td>\n",
       "    </tr>\n",
       "    <tr>\n",
       "      <th>3</th>\n",
       "      <td>B</td>\n",
       "      <td>CIS</td>\n",
       "      <td>645</td>\n",
       "    </tr>\n",
       "    <tr>\n",
       "      <th>4</th>\n",
       "      <td>B</td>\n",
       "      <td>EU</td>\n",
       "      <td>217</td>\n",
       "    </tr>\n",
       "    <tr>\n",
       "      <th>5</th>\n",
       "      <td>B</td>\n",
       "      <td>MENA</td>\n",
       "      <td>604</td>\n",
       "    </tr>\n",
       "  </tbody>\n",
       "</table>\n",
       "</div>"
      ],
      "text/plain": [
       "  test_group region  num_of_users\n",
       "0          A    CIS           644\n",
       "1          A     EU           224\n",
       "2          A   MENA           609\n",
       "3          B    CIS           645\n",
       "4          B     EU           217\n",
       "5          B   MENA           604"
      ]
     },
     "execution_count": 24,
     "metadata": {},
     "output_type": "execute_result"
    }
   ],
   "source": [
    "share_region_type = sessions_test_part.groupby(['test_group', 'region'])['user_id'].nunique().reset_index(name='num_of_users')\n",
    "share_region_type"
   ]
  },
  {
   "cell_type": "code",
   "execution_count": 25,
   "metadata": {},
   "outputs": [],
   "source": [
    "df_A = share_region_type[share_region_type['test_group'] == \"A\"]\n",
    "df_B = share_region_type[share_region_type['test_group'] == \"B\"]"
   ]
  },
  {
   "cell_type": "code",
   "execution_count": 26,
   "metadata": {
    "scrolled": false
   },
   "outputs": [
    {
     "name": "stderr",
     "output_type": "stream",
     "text": [
      "C:\\Users\\Вероничка\\AppData\\Local\\Temp\\ipykernel_28720\\269550766.py:1: SettingWithCopyWarning: \n",
      "A value is trying to be set on a copy of a slice from a DataFrame.\n",
      "Try using .loc[row_indexer,col_indexer] = value instead\n",
      "\n",
      "See the caveats in the documentation: https://pandas.pydata.org/pandas-docs/stable/user_guide/indexing.html#returning-a-view-versus-a-copy\n",
      "  df_A['share_r'] = df_A['num_of_users'] / df_A['num_of_users'].sum()\n",
      "C:\\Users\\Вероничка\\AppData\\Local\\Temp\\ipykernel_28720\\269550766.py:2: SettingWithCopyWarning: \n",
      "A value is trying to be set on a copy of a slice from a DataFrame.\n",
      "Try using .loc[row_indexer,col_indexer] = value instead\n",
      "\n",
      "See the caveats in the documentation: https://pandas.pydata.org/pandas-docs/stable/user_guide/indexing.html#returning-a-view-versus-a-copy\n",
      "  df_B['share_r'] = df_B['num_of_users'] / df_B['num_of_users'].sum()\n"
     ]
    }
   ],
   "source": [
    "df_A['share_r'] = df_A['num_of_users'] / df_A['num_of_users'].sum() \n",
    "df_B['share_r'] = df_B['num_of_users'] / df_B['num_of_users'].sum()"
   ]
  },
  {
   "cell_type": "raw",
   "metadata": {
    "id": "3hAq-FG4OdYM"
   },
   "source": [
    "share_region_type = sessions_test_part.groupby('test_group')['region'].value_counts(normalize=True).reset_index(name='share_r')\n",
    "share_region_type"
   ]
  },
  {
   "cell_type": "raw",
   "metadata": {},
   "source": [
    "df_A = share_region_type[share_region_type['test_group'] == \"A\"]\n",
    "df_B = share_region_type[share_region_type['test_group'] == \"B\"]"
   ]
  },
  {
   "cell_type": "code",
   "execution_count": 27,
   "metadata": {
    "scrolled": false
   },
   "outputs": [
    {
     "data": {
      "image/png": "[encoded data removed]",
      "text/plain": [
       "<Figure size 1200x600 with 2 Axes>"
      ]
     },
     "metadata": {},
     "output_type": "display_data"
    }
   ],
   "source": [
    "fig, axes = plt.subplots(1, 2, figsize=(12, 6))\n",
    "\n",
    "# Группа A\n",
    "axes[0].bar(df_A['region'], df_A['share_r'], color='lightblue')\n",
    "axes[0].set_title('Доли типов устройств (Группа A)')\n",
    "axes[0].set_xlabel(\"Тип устройства\")\n",
    "axes[0].set_ylabel(\"Доля пользователей\")\n",
    "axes[0].tick_params(axis='x', rotation=45)\n",
    "\n",
    "# Группа B\n",
    "axes[1].bar(df_B['region'], df_B['share_r'], color='lightcoral')\n",
    "axes[1].set_title('Доли типов устройств (Группа B)')\n",
    "axes[1].set_xlabel(\"Тип устройства\")\n",
    "axes[1].set_ylabel(\"Доля пользователей\")\n",
    "axes[1].tick_params(axis='x', rotation=45)\n",
    "\n",
    "plt.tight_layout()  # Чтобы графики не слипались\n",
    "plt.show()"
   ]
  },
  {
   "cell_type": "markdown",
   "metadata": {},
   "source": [
    "В целом распределение также равномерное, а наибольшая разница между между группами по количеству пользователей из региона EU составляет примерно 1,5%."
   ]
  },
  {
   "cell_type": "markdown",
   "metadata": {
    "id": "X2WSZ-sDrSUi"
   },
   "source": [
    "#### 3.5. Вывод после проверки A/B-теста"
   ]
  },
  {
   "cell_type": "markdown",
   "metadata": {},
   "source": [
    "На основе проведённого анализа можно сделать следующие выводы:\n",
    "\n",
    "- Количество уникальных пользователей в тестовой и контрольной группах распределено практически равномерно, разница составляет менее 1%, что не оказывает значимого влияния на корректность эксперимента.\n",
    "- Пользователи в двух группах не пересекаются.\n",
    "- Количество пользователей между типами устройств распределяется почти равномерно, с разницей всего в 1–2%, что не является существенным.\n",
    "- Распределение пользователей по регионам также достаточно равномерное. Единственное отличие — в регионе CIS, где разница между группами составляет около 4%, что может иметь некоторое влияние, но в целом не критично."
   ]
  },
  {
   "cell_type": "markdown",
   "metadata": {
    "id": "nudRr_BQ0eM2"
   },
   "source": [
    "### 4. Проверка результатов A/B-теста\n",
    "\n",
    "A/B-тест завершён, и у вас есть результаты за все дни проведения эксперимента. Необходимо убедиться в корректности теста и верно интерпретировать результаты."
   ]
  },
  {
   "cell_type": "markdown",
   "metadata": {},
   "source": [
    "Формируем нулевую и альтернативную гипотезe для проверки:\n",
    "\n",
    "H0 - после внедрения нового алгоритма оптимизации доля успешных сессий не изменилась.\n",
    "\n",
    "H1 - после внедрения нового алгоритма оптимизации доля успешных сессий стала выше."
   ]
  },
  {
   "cell_type": "markdown",
   "metadata": {
    "id": "JVve-YBB0eM2"
   },
   "source": [
    "#### 4.1. Получение результатов теста и подсчёт основной метрики\n",
    "\n",
    "- Считайте и сохраните в датафрейм `sessions_test` CSV-файл с историческими данными о сессиях пользователей `sessions_project_test.csv`.\n",
    "\n",
    "- В датафрейме `sessions_test` создайте дополнительный столбец `good_session`. В него войдёт значение `1`, если за одну сессию было просмотрено 4 и более страниц, и значение `0`, если просмотрено меньше."
   ]
  },
  {
   "cell_type": "code",
   "execution_count": 28,
   "metadata": {
    "id": "EqRlwMtKPTir",
    "scrolled": true
   },
   "outputs": [
    {
     "data": {
      "text/html": [
       "<div>\n",
       "<style scoped>\n",
       "    .dataframe tbody tr th:only-of-type {\n",
       "        vertical-align: middle;\n",
       "    }\n",
       "\n",
       "    .dataframe tbody tr th {\n",
       "        vertical-align: top;\n",
       "    }\n",
       "\n",
       "    .dataframe thead th {\n",
       "        text-align: right;\n",
       "    }\n",
       "</style>\n",
       "<table border=\"1\" class=\"dataframe\">\n",
       "  <thead>\n",
       "    <tr style=\"text-align: right;\">\n",
       "      <th></th>\n",
       "      <th>user_id</th>\n",
       "      <th>session_id</th>\n",
       "      <th>session_date</th>\n",
       "      <th>session_start_ts</th>\n",
       "      <th>install_date</th>\n",
       "      <th>session_number</th>\n",
       "      <th>registration_flag</th>\n",
       "      <th>page_counter</th>\n",
       "      <th>region</th>\n",
       "      <th>device</th>\n",
       "      <th>test_group</th>\n",
       "    </tr>\n",
       "  </thead>\n",
       "  <tbody>\n",
       "    <tr>\n",
       "      <th>0</th>\n",
       "      <td>6DAE3B3654DA738E</td>\n",
       "      <td>C69249E26E58F6E2</td>\n",
       "      <td>2025-10-26</td>\n",
       "      <td>2025-10-26 18:15:05</td>\n",
       "      <td>2025-10-16</td>\n",
       "      <td>3</td>\n",
       "      <td>0</td>\n",
       "      <td>3</td>\n",
       "      <td>MENA</td>\n",
       "      <td>Android</td>\n",
       "      <td>A</td>\n",
       "    </tr>\n",
       "    <tr>\n",
       "      <th>1</th>\n",
       "      <td>0A3FE5D1DD59110A</td>\n",
       "      <td>66D66D7C9F5181B7</td>\n",
       "      <td>2025-10-21</td>\n",
       "      <td>2025-10-21 17:04:53</td>\n",
       "      <td>2025-10-15</td>\n",
       "      <td>2</td>\n",
       "      <td>1</td>\n",
       "      <td>2</td>\n",
       "      <td>CIS</td>\n",
       "      <td>Android</td>\n",
       "      <td>B</td>\n",
       "    </tr>\n",
       "    <tr>\n",
       "      <th>2</th>\n",
       "      <td>2041F1D7AA740B88</td>\n",
       "      <td>50DE51D42215E74C</td>\n",
       "      <td>2025-10-23</td>\n",
       "      <td>2025-10-23 17:39:29</td>\n",
       "      <td>2025-10-19</td>\n",
       "      <td>3</td>\n",
       "      <td>0</td>\n",
       "      <td>2</td>\n",
       "      <td>MENA</td>\n",
       "      <td>Android</td>\n",
       "      <td>A</td>\n",
       "    </tr>\n",
       "    <tr>\n",
       "      <th>3</th>\n",
       "      <td>43D7585009168086</td>\n",
       "      <td>5763C0C353C22263</td>\n",
       "      <td>2025-10-24</td>\n",
       "      <td>2025-10-24 15:01:57</td>\n",
       "      <td>2025-10-18</td>\n",
       "      <td>4</td>\n",
       "      <td>0</td>\n",
       "      <td>1</td>\n",
       "      <td>CIS</td>\n",
       "      <td>iPhone</td>\n",
       "      <td>B</td>\n",
       "    </tr>\n",
       "    <tr>\n",
       "      <th>4</th>\n",
       "      <td>15AD68B14D62D88C</td>\n",
       "      <td>B1AD09F93C1053BC</td>\n",
       "      <td>2025-10-17</td>\n",
       "      <td>2025-10-17 17:34:39</td>\n",
       "      <td>2025-10-17</td>\n",
       "      <td>1</td>\n",
       "      <td>0</td>\n",
       "      <td>2</td>\n",
       "      <td>MENA</td>\n",
       "      <td>Android</td>\n",
       "      <td>B</td>\n",
       "    </tr>\n",
       "  </tbody>\n",
       "</table>\n",
       "</div>"
      ],
      "text/plain": [
       "            user_id        session_id session_date     session_start_ts  \\\n",
       "0  6DAE3B3654DA738E  C69249E26E58F6E2   2025-10-26  2025-10-26 18:15:05   \n",
       "1  0A3FE5D1DD59110A  66D66D7C9F5181B7   2025-10-21  2025-10-21 17:04:53   \n",
       "2  2041F1D7AA740B88  50DE51D42215E74C   2025-10-23  2025-10-23 17:39:29   \n",
       "3  43D7585009168086  5763C0C353C22263   2025-10-24  2025-10-24 15:01:57   \n",
       "4  15AD68B14D62D88C  B1AD09F93C1053BC   2025-10-17  2025-10-17 17:34:39   \n",
       "\n",
       "  install_date  session_number  registration_flag  page_counter region  \\\n",
       "0   2025-10-16               3                  0             3   MENA   \n",
       "1   2025-10-15               2                  1             2    CIS   \n",
       "2   2025-10-19               3                  0             2   MENA   \n",
       "3   2025-10-18               4                  0             1    CIS   \n",
       "4   2025-10-17               1                  0             2   MENA   \n",
       "\n",
       "    device test_group  \n",
       "0  Android          A  \n",
       "1  Android          B  \n",
       "2  Android          A  \n",
       "3   iPhone          B  \n",
       "4  Android          B  "
      ]
     },
     "execution_count": 28,
     "metadata": {},
     "output_type": "execute_result"
    }
   ],
   "source": [
    "sessions_test = pd.read_csv('https://code.s3.yandex.net/datasets/sessions_project_test.csv')\n",
    "sessions_test.head()"
   ]
  },
  {
   "cell_type": "code",
   "execution_count": 29,
   "metadata": {},
   "outputs": [
    {
     "data": {
      "text/html": [
       "<div>\n",
       "<style scoped>\n",
       "    .dataframe tbody tr th:only-of-type {\n",
       "        vertical-align: middle;\n",
       "    }\n",
       "\n",
       "    .dataframe tbody tr th {\n",
       "        vertical-align: top;\n",
       "    }\n",
       "\n",
       "    .dataframe thead th {\n",
       "        text-align: right;\n",
       "    }\n",
       "</style>\n",
       "<table border=\"1\" class=\"dataframe\">\n",
       "  <thead>\n",
       "    <tr style=\"text-align: right;\">\n",
       "      <th></th>\n",
       "      <th>user_id</th>\n",
       "      <th>session_id</th>\n",
       "      <th>session_date</th>\n",
       "      <th>session_start_ts</th>\n",
       "      <th>install_date</th>\n",
       "      <th>session_number</th>\n",
       "      <th>registration_flag</th>\n",
       "      <th>page_counter</th>\n",
       "      <th>region</th>\n",
       "      <th>device</th>\n",
       "      <th>test_group</th>\n",
       "      <th>good_session</th>\n",
       "    </tr>\n",
       "  </thead>\n",
       "  <tbody>\n",
       "    <tr>\n",
       "      <th>0</th>\n",
       "      <td>6DAE3B3654DA738E</td>\n",
       "      <td>C69249E26E58F6E2</td>\n",
       "      <td>2025-10-26</td>\n",
       "      <td>2025-10-26 18:15:05</td>\n",
       "      <td>2025-10-16</td>\n",
       "      <td>3</td>\n",
       "      <td>0</td>\n",
       "      <td>3</td>\n",
       "      <td>MENA</td>\n",
       "      <td>Android</td>\n",
       "      <td>A</td>\n",
       "      <td>0</td>\n",
       "    </tr>\n",
       "    <tr>\n",
       "      <th>1</th>\n",
       "      <td>0A3FE5D1DD59110A</td>\n",
       "      <td>66D66D7C9F5181B7</td>\n",
       "      <td>2025-10-21</td>\n",
       "      <td>2025-10-21 17:04:53</td>\n",
       "      <td>2025-10-15</td>\n",
       "      <td>2</td>\n",
       "      <td>1</td>\n",
       "      <td>2</td>\n",
       "      <td>CIS</td>\n",
       "      <td>Android</td>\n",
       "      <td>B</td>\n",
       "      <td>0</td>\n",
       "    </tr>\n",
       "    <tr>\n",
       "      <th>2</th>\n",
       "      <td>2041F1D7AA740B88</td>\n",
       "      <td>50DE51D42215E74C</td>\n",
       "      <td>2025-10-23</td>\n",
       "      <td>2025-10-23 17:39:29</td>\n",
       "      <td>2025-10-19</td>\n",
       "      <td>3</td>\n",
       "      <td>0</td>\n",
       "      <td>2</td>\n",
       "      <td>MENA</td>\n",
       "      <td>Android</td>\n",
       "      <td>A</td>\n",
       "      <td>0</td>\n",
       "    </tr>\n",
       "    <tr>\n",
       "      <th>3</th>\n",
       "      <td>43D7585009168086</td>\n",
       "      <td>5763C0C353C22263</td>\n",
       "      <td>2025-10-24</td>\n",
       "      <td>2025-10-24 15:01:57</td>\n",
       "      <td>2025-10-18</td>\n",
       "      <td>4</td>\n",
       "      <td>0</td>\n",
       "      <td>1</td>\n",
       "      <td>CIS</td>\n",
       "      <td>iPhone</td>\n",
       "      <td>B</td>\n",
       "      <td>0</td>\n",
       "    </tr>\n",
       "    <tr>\n",
       "      <th>4</th>\n",
       "      <td>15AD68B14D62D88C</td>\n",
       "      <td>B1AD09F93C1053BC</td>\n",
       "      <td>2025-10-17</td>\n",
       "      <td>2025-10-17 17:34:39</td>\n",
       "      <td>2025-10-17</td>\n",
       "      <td>1</td>\n",
       "      <td>0</td>\n",
       "      <td>2</td>\n",
       "      <td>MENA</td>\n",
       "      <td>Android</td>\n",
       "      <td>B</td>\n",
       "      <td>0</td>\n",
       "    </tr>\n",
       "  </tbody>\n",
       "</table>\n",
       "</div>"
      ],
      "text/plain": [
       "            user_id        session_id session_date     session_start_ts  \\\n",
       "0  6DAE3B3654DA738E  C69249E26E58F6E2   2025-10-26  2025-10-26 18:15:05   \n",
       "1  0A3FE5D1DD59110A  66D66D7C9F5181B7   2025-10-21  2025-10-21 17:04:53   \n",
       "2  2041F1D7AA740B88  50DE51D42215E74C   2025-10-23  2025-10-23 17:39:29   \n",
       "3  43D7585009168086  5763C0C353C22263   2025-10-24  2025-10-24 15:01:57   \n",
       "4  15AD68B14D62D88C  B1AD09F93C1053BC   2025-10-17  2025-10-17 17:34:39   \n",
       "\n",
       "  install_date  session_number  registration_flag  page_counter region  \\\n",
       "0   2025-10-16               3                  0             3   MENA   \n",
       "1   2025-10-15               2                  1             2    CIS   \n",
       "2   2025-10-19               3                  0             2   MENA   \n",
       "3   2025-10-18               4                  0             1    CIS   \n",
       "4   2025-10-17               1                  0             2   MENA   \n",
       "\n",
       "    device test_group  good_session  \n",
       "0  Android          A             0  \n",
       "1  Android          B             0  \n",
       "2  Android          A             0  \n",
       "3   iPhone          B             0  \n",
       "4  Android          B             0  "
      ]
     },
     "execution_count": 29,
     "metadata": {},
     "output_type": "execute_result"
    }
   ],
   "source": [
    "sessions_test['good_session'] = (sessions_test['page_counter'] >= 4).astype(int)\n",
    "sessions_test.head()"
   ]
  },
  {
   "cell_type": "markdown",
   "metadata": {
    "id": "aeYhrMYy0eM2"
   },
   "source": [
    "#### 4.2. Проверка корректности результатов теста\n",
    "\n",
    "Прежде чем приступать к анализу ключевых продуктовых метрик, необходимо убедиться, что тест проведён корректно и вы будете сравнивать две сопоставимые группы.\n",
    "\n",
    "- Рассчитайте количество уникальных сессий для каждого дня и обеих тестовых групп, используя группировку.\n",
    "\n",
    "- Проверьте, что количество уникальных дневных сессий в двух выборках не различается или различия не статистически значимы. Используйте статистический тест, который позволит сделать вывод о равенстве средних двух выборок.\n",
    "\n",
    "- В качестве ответа выведите на экран полученное значение p-value и интерпретируйте его."
   ]
  },
  {
   "cell_type": "code",
   "execution_count": 30,
   "metadata": {
    "id": "5NUlcltkTTSU",
    "scrolled": true
   },
   "outputs": [
    {
     "data": {
      "text/html": [
       "<div>\n",
       "<style scoped>\n",
       "    .dataframe tbody tr th:only-of-type {\n",
       "        vertical-align: middle;\n",
       "    }\n",
       "\n",
       "    .dataframe tbody tr th {\n",
       "        vertical-align: top;\n",
       "    }\n",
       "\n",
       "    .dataframe thead th {\n",
       "        text-align: right;\n",
       "    }\n",
       "</style>\n",
       "<table border=\"1\" class=\"dataframe\">\n",
       "  <thead>\n",
       "    <tr style=\"text-align: right;\">\n",
       "      <th></th>\n",
       "      <th>session_date</th>\n",
       "      <th>test_group</th>\n",
       "      <th>session_id</th>\n",
       "    </tr>\n",
       "  </thead>\n",
       "  <tbody>\n",
       "    <tr>\n",
       "      <th>0</th>\n",
       "      <td>2025-10-14</td>\n",
       "      <td>A</td>\n",
       "      <td>1502</td>\n",
       "    </tr>\n",
       "    <tr>\n",
       "      <th>1</th>\n",
       "      <td>2025-10-14</td>\n",
       "      <td>B</td>\n",
       "      <td>1628</td>\n",
       "    </tr>\n",
       "    <tr>\n",
       "      <th>2</th>\n",
       "      <td>2025-10-15</td>\n",
       "      <td>A</td>\n",
       "      <td>2235</td>\n",
       "    </tr>\n",
       "    <tr>\n",
       "      <th>3</th>\n",
       "      <td>2025-10-15</td>\n",
       "      <td>B</td>\n",
       "      <td>2283</td>\n",
       "    </tr>\n",
       "    <tr>\n",
       "      <th>4</th>\n",
       "      <td>2025-10-16</td>\n",
       "      <td>A</td>\n",
       "      <td>3280</td>\n",
       "    </tr>\n",
       "    <tr>\n",
       "      <th>5</th>\n",
       "      <td>2025-10-16</td>\n",
       "      <td>B</td>\n",
       "      <td>3241</td>\n",
       "    </tr>\n",
       "    <tr>\n",
       "      <th>6</th>\n",
       "      <td>2025-10-17</td>\n",
       "      <td>A</td>\n",
       "      <td>4089</td>\n",
       "    </tr>\n",
       "    <tr>\n",
       "      <th>7</th>\n",
       "      <td>2025-10-17</td>\n",
       "      <td>B</td>\n",
       "      <td>4054</td>\n",
       "    </tr>\n",
       "    <tr>\n",
       "      <th>8</th>\n",
       "      <td>2025-10-18</td>\n",
       "      <td>A</td>\n",
       "      <td>5013</td>\n",
       "    </tr>\n",
       "    <tr>\n",
       "      <th>9</th>\n",
       "      <td>2025-10-18</td>\n",
       "      <td>B</td>\n",
       "      <td>5059</td>\n",
       "    </tr>\n",
       "    <tr>\n",
       "      <th>10</th>\n",
       "      <td>2025-10-19</td>\n",
       "      <td>A</td>\n",
       "      <td>6535</td>\n",
       "    </tr>\n",
       "    <tr>\n",
       "      <th>11</th>\n",
       "      <td>2025-10-19</td>\n",
       "      <td>B</td>\n",
       "      <td>6779</td>\n",
       "    </tr>\n",
       "    <tr>\n",
       "      <th>12</th>\n",
       "      <td>2025-10-20</td>\n",
       "      <td>A</td>\n",
       "      <td>5837</td>\n",
       "    </tr>\n",
       "    <tr>\n",
       "      <th>13</th>\n",
       "      <td>2025-10-20</td>\n",
       "      <td>B</td>\n",
       "      <td>6089</td>\n",
       "    </tr>\n",
       "    <tr>\n",
       "      <th>14</th>\n",
       "      <td>2025-10-21</td>\n",
       "      <td>A</td>\n",
       "      <td>3927</td>\n",
       "    </tr>\n",
       "    <tr>\n",
       "      <th>15</th>\n",
       "      <td>2025-10-21</td>\n",
       "      <td>B</td>\n",
       "      <td>3981</td>\n",
       "    </tr>\n",
       "    <tr>\n",
       "      <th>16</th>\n",
       "      <td>2025-10-22</td>\n",
       "      <td>A</td>\n",
       "      <td>3083</td>\n",
       "    </tr>\n",
       "    <tr>\n",
       "      <th>17</th>\n",
       "      <td>2025-10-22</td>\n",
       "      <td>B</td>\n",
       "      <td>3111</td>\n",
       "    </tr>\n",
       "    <tr>\n",
       "      <th>18</th>\n",
       "      <td>2025-10-23</td>\n",
       "      <td>A</td>\n",
       "      <td>2470</td>\n",
       "    </tr>\n",
       "    <tr>\n",
       "      <th>19</th>\n",
       "      <td>2025-10-23</td>\n",
       "      <td>B</td>\n",
       "      <td>2548</td>\n",
       "    </tr>\n",
       "    <tr>\n",
       "      <th>20</th>\n",
       "      <td>2025-10-24</td>\n",
       "      <td>A</td>\n",
       "      <td>2090</td>\n",
       "    </tr>\n",
       "    <tr>\n",
       "      <th>21</th>\n",
       "      <td>2025-10-24</td>\n",
       "      <td>B</td>\n",
       "      <td>2068</td>\n",
       "    </tr>\n",
       "    <tr>\n",
       "      <th>22</th>\n",
       "      <td>2025-10-25</td>\n",
       "      <td>A</td>\n",
       "      <td>1897</td>\n",
       "    </tr>\n",
       "    <tr>\n",
       "      <th>23</th>\n",
       "      <td>2025-10-25</td>\n",
       "      <td>B</td>\n",
       "      <td>1814</td>\n",
       "    </tr>\n",
       "    <tr>\n",
       "      <th>24</th>\n",
       "      <td>2025-10-26</td>\n",
       "      <td>A</td>\n",
       "      <td>1669</td>\n",
       "    </tr>\n",
       "    <tr>\n",
       "      <th>25</th>\n",
       "      <td>2025-10-26</td>\n",
       "      <td>B</td>\n",
       "      <td>1692</td>\n",
       "    </tr>\n",
       "    <tr>\n",
       "      <th>26</th>\n",
       "      <td>2025-10-27</td>\n",
       "      <td>A</td>\n",
       "      <td>1454</td>\n",
       "    </tr>\n",
       "    <tr>\n",
       "      <th>27</th>\n",
       "      <td>2025-10-27</td>\n",
       "      <td>B</td>\n",
       "      <td>1517</td>\n",
       "    </tr>\n",
       "    <tr>\n",
       "      <th>28</th>\n",
       "      <td>2025-10-28</td>\n",
       "      <td>A</td>\n",
       "      <td>1279</td>\n",
       "    </tr>\n",
       "    <tr>\n",
       "      <th>29</th>\n",
       "      <td>2025-10-28</td>\n",
       "      <td>B</td>\n",
       "      <td>1289</td>\n",
       "    </tr>\n",
       "    <tr>\n",
       "      <th>30</th>\n",
       "      <td>2025-10-29</td>\n",
       "      <td>A</td>\n",
       "      <td>1068</td>\n",
       "    </tr>\n",
       "    <tr>\n",
       "      <th>31</th>\n",
       "      <td>2025-10-29</td>\n",
       "      <td>B</td>\n",
       "      <td>1131</td>\n",
       "    </tr>\n",
       "    <tr>\n",
       "      <th>32</th>\n",
       "      <td>2025-10-30</td>\n",
       "      <td>A</td>\n",
       "      <td>887</td>\n",
       "    </tr>\n",
       "    <tr>\n",
       "      <th>33</th>\n",
       "      <td>2025-10-30</td>\n",
       "      <td>B</td>\n",
       "      <td>876</td>\n",
       "    </tr>\n",
       "    <tr>\n",
       "      <th>34</th>\n",
       "      <td>2025-10-31</td>\n",
       "      <td>A</td>\n",
       "      <td>644</td>\n",
       "    </tr>\n",
       "    <tr>\n",
       "      <th>35</th>\n",
       "      <td>2025-10-31</td>\n",
       "      <td>B</td>\n",
       "      <td>669</td>\n",
       "    </tr>\n",
       "    <tr>\n",
       "      <th>36</th>\n",
       "      <td>2025-11-01</td>\n",
       "      <td>A</td>\n",
       "      <td>434</td>\n",
       "    </tr>\n",
       "    <tr>\n",
       "      <th>37</th>\n",
       "      <td>2025-11-01</td>\n",
       "      <td>B</td>\n",
       "      <td>465</td>\n",
       "    </tr>\n",
       "    <tr>\n",
       "      <th>38</th>\n",
       "      <td>2025-11-02</td>\n",
       "      <td>A</td>\n",
       "      <td>158</td>\n",
       "    </tr>\n",
       "    <tr>\n",
       "      <th>39</th>\n",
       "      <td>2025-11-02</td>\n",
       "      <td>B</td>\n",
       "      <td>160</td>\n",
       "    </tr>\n",
       "  </tbody>\n",
       "</table>\n",
       "</div>"
      ],
      "text/plain": [
       "   session_date test_group  session_id\n",
       "0    2025-10-14          A        1502\n",
       "1    2025-10-14          B        1628\n",
       "2    2025-10-15          A        2235\n",
       "3    2025-10-15          B        2283\n",
       "4    2025-10-16          A        3280\n",
       "5    2025-10-16          B        3241\n",
       "6    2025-10-17          A        4089\n",
       "7    2025-10-17          B        4054\n",
       "8    2025-10-18          A        5013\n",
       "9    2025-10-18          B        5059\n",
       "10   2025-10-19          A        6535\n",
       "11   2025-10-19          B        6779\n",
       "12   2025-10-20          A        5837\n",
       "13   2025-10-20          B        6089\n",
       "14   2025-10-21          A        3927\n",
       "15   2025-10-21          B        3981\n",
       "16   2025-10-22          A        3083\n",
       "17   2025-10-22          B        3111\n",
       "18   2025-10-23          A        2470\n",
       "19   2025-10-23          B        2548\n",
       "20   2025-10-24          A        2090\n",
       "21   2025-10-24          B        2068\n",
       "22   2025-10-25          A        1897\n",
       "23   2025-10-25          B        1814\n",
       "24   2025-10-26          A        1669\n",
       "25   2025-10-26          B        1692\n",
       "26   2025-10-27          A        1454\n",
       "27   2025-10-27          B        1517\n",
       "28   2025-10-28          A        1279\n",
       "29   2025-10-28          B        1289\n",
       "30   2025-10-29          A        1068\n",
       "31   2025-10-29          B        1131\n",
       "32   2025-10-30          A         887\n",
       "33   2025-10-30          B         876\n",
       "34   2025-10-31          A         644\n",
       "35   2025-10-31          B         669\n",
       "36   2025-11-01          A         434\n",
       "37   2025-11-01          B         465\n",
       "38   2025-11-02          A         158\n",
       "39   2025-11-02          B         160"
      ]
     },
     "execution_count": 30,
     "metadata": {},
     "output_type": "execute_result"
    }
   ],
   "source": [
    "sessions_per_day = sessions_test.groupby(['session_date', 'test_group'])['session_id'].nunique().reset_index()\n",
    "sessions_per_day"
   ]
  },
  {
   "cell_type": "code",
   "execution_count": null,
   "metadata": {},
   "outputs": [
    {
     "data": {
      "text/plain": [
       "np.float64(0.9382195854082714)"
      ]
     },
     "execution_count": 31,
     "metadata": {},
     "output_type": "execute_result"
    }
   ],
   "source": [
    "group_A = sessions_per_day[sessions_per_day['test_group'] == 'A']['session_id']\n",
    "group_B = sessions_per_day[sessions_per_day['test_group'] == 'B']['session_id']\n",
    "\n",
    "t_stat, p_value = ttest_ind(group_A, group_B, equal_var=False)\n",
    "p_value"
   ]
  },
  {
   "cell_type": "markdown",
   "metadata": {},
   "source": [
    "Мы получили p_value=0.9382195854082714. Это высокое значение показателя, которое говорит о том, что между группами нет статистически значимой разницы в количестве уникальных сессий."
   ]
  },
  {
   "cell_type": "markdown",
   "metadata": {
    "id": "7kwRxzg70eM3"
   },
   "source": [
    "#### 4.3. Сравнение доли успешных сессий\n",
    "\n",
    "Когда вы убедились, что количество сессий в обеих выборках не различалось, можно переходить к анализу ключевой метрики — доли успешных сессий.\n",
    "\n",
    "Используйте созданный на первом шаге задания столбец `good_session` и рассчитайте долю успешных сессий для выборок A и B, а также разницу в этом показателе. Полученный вывод отобразите на экране."
   ]
  },
  {
   "cell_type": "code",
   "execution_count": 32,
   "metadata": {
    "id": "Uku-V1CpPRCz"
   },
   "outputs": [
    {
     "data": {
      "text/plain": [
       "'Доля успешных сессий для группы A: 0.3077233557344958'"
      ]
     },
     "metadata": {},
     "output_type": "display_data"
    },
    {
     "data": {
      "text/plain": [
       "'Доля успешных сессий для группы B: 0.31828992745867524'"
      ]
     },
     "metadata": {},
     "output_type": "display_data"
    },
    {
     "data": {
      "text/plain": [
       "'Разница между долями успешных сессий для группы A и В: 0.010566571724179463'"
      ]
     },
     "metadata": {},
     "output_type": "display_data"
    }
   ],
   "source": [
    "per_successful_sessions = sessions_test.groupby('test_group')['good_session'].mean()\n",
    "display(f\"Доля успешных сессий для группы A: {per_successful_sessions.loc['A']}\")\n",
    "display(f\"Доля успешных сессий для группы B: {per_successful_sessions.loc['B']}\")\n",
    "display(f\"Разница между долями успешных сессий для группы A и В: {per_successful_sessions.loc['B'] - per_successful_sessions.loc['A']}\")"
   ]
  },
  {
   "cell_type": "markdown",
   "metadata": {},
   "source": [
    "Как видно по результатам, разница между группами совсем небольшая. Резeтаты группы `Б` лучше на 1% в сравнении с группой `А`."
   ]
  },
  {
   "cell_type": "markdown",
   "metadata": {
    "id": "9fMFuja10eM4"
   },
   "source": [
    "#### 4.4. Насколько статистически значимо изменение ключевой метрики\n",
    "\n",
    "На предыдущем шаге вы убедились, что количество успешных сессий в тестовой выборке примерно на 1.1% выше, чем в контрольной, но делать выводы только на основе этого значения будет некорректно. Для принятия решения всегда необходимо отвечать на вопрос: является ли это изменение статистически значимым.\n",
    "\n",
    "- Используя статистический тест, рассчитайте, является ли изменение в метрике доли успешных сессий статистически значимым.\n",
    "\n",
    "- Выведите на экран полученное значение p-value и свои выводы о статистической значимости. Напомним, что уровень значимости в эксперименте был выбран на уровне 0.05."
   ]
  },
  {
   "cell_type": "code",
   "execution_count": null,
   "metadata": {
    "id": "gFvhRGwlPLS0"
   },
   "outputs": [
    {
     "name": "stdout",
     "output_type": "stream",
     "text": [
      "pvalue=0.0001574739988036123 < 0.05\n",
      "Нулевая гипотеза не находит подтверждения!\n",
      "После внедрения нового алгоритма оптимизации доля успешных сессий стала выше.\n"
     ]
    }
   ],
   "source": [
    "n_a = sessions_test[sessions_test['test_group'] == 'A']['user_id'].count()\n",
    "n_b = sessions_test[sessions_test['test_group'] == 'B']['user_id'].count()\n",
    "\n",
    "m_a =sessions_test.loc[sessions_test['test_group'] == 'A', 'good_session'].sum()\n",
    "m_b = sessions_test.loc[sessions_test['test_group'] == 'B', 'good_session'].sum()\n",
    "\n",
    "alpha = 0.05 \n",
    "\n",
    "stat_ztest, p_value_ztest = proportions_ztest(\n",
    "    [m_a, m_b],\n",
    "    [n_a, n_b],\n",
    "    alternative='smaller'\n",
    ")\n",
    "p_value_ztest\n",
    "\n",
    "if p_value_ztest > alpha:\n",
    "    print(f'pvalue={p_value_ztest} > {alpha}')\n",
    "    print('Нулевая гипотеза находит подтверждение!')\n",
    "    print('После внедрения нового алгоритма оптимизации доля успешных сессий не изменилась.')   \n",
    "else:\n",
    "    print(f'pvalue={p_value_ztest} < {alpha}')\n",
    "    print('Нулевая гипотеза не находит подтверждения!')\n",
    "    print('После внедрения нового алгоритма оптимизации доля успешных сессий стала выше.')"
   ]
  },
  {
   "cell_type": "markdown",
   "metadata": {},
   "source": [
    "Результаты теста показали, что альтернативная гипотеза подтвердилась, а нулеую мы вынуждены отвергнуть. "
   ]
  },
  {
   "cell_type": "markdown",
   "metadata": {
    "id": "GnJrkY9Q63zS"
   },
   "source": [
    "#### 4.5. Вывод по результатам A/B-эксперимента"
   ]
  },
  {
   "cell_type": "markdown",
   "metadata": {},
   "source": [
    "Выводы:\n",
    "- В эксперименте участвовало 30 579 пользователей, а его продолжительность составила 20 дней.\n",
    "- Внедрение нового алгоритма оказало влияние на ключевую метрику — её значение увеличилось примерно на 1,1%.\n",
    "- Полученное p-value = 0.00016, что значительно меньше уровня значимости α = 0.05.\n",
    "- По результатам теста рекомендуется внедрить нововведение."
   ]
  }
 ],
 "metadata": {
  "ExecuteTimeLog": [
   {
    "duration": 462,
    "start_time": "2025-03-05T17:13:03.068Z"
   },
   {
    "duration": 1184,
    "start_time": "2025-03-05T17:13:04.310Z"
   },
   {
    "duration": 1162,
    "start_time": "2025-03-05T17:13:28.634Z"
   },
   {
    "duration": 1119,
    "start_time": "2025-03-05T17:13:46.977Z"
   },
   {
    "duration": 381,
    "start_time": "2025-03-05T17:18:42.586Z"
   },
   {
    "duration": 399,
    "start_time": "2025-03-05T17:18:50.861Z"
   },
   {
    "duration": 453,
    "start_time": "2025-03-05T17:20:45.776Z"
   },
   {
    "duration": 415,
    "start_time": "2025-03-05T17:21:34.110Z"
   },
   {
    "duration": 390,
    "start_time": "2025-03-05T17:21:43.892Z"
   },
   {
    "duration": 400,
    "start_time": "2025-03-05T17:22:39.467Z"
   },
   {
    "duration": 399,
    "start_time": "2025-03-05T17:22:54.518Z"
   },
   {
    "duration": 18,
    "start_time": "2025-03-05T17:23:34.849Z"
   },
   {
    "duration": 68,
    "start_time": "2025-03-05T17:24:13.600Z"
   },
   {
    "duration": 42,
    "start_time": "2025-03-05T17:24:21.833Z"
   },
   {
    "duration": 463,
    "start_time": "2025-03-05T17:58:27.223Z"
   },
   {
    "duration": 4,
    "start_time": "2025-03-05T18:05:20.595Z"
   },
   {
    "duration": 333,
    "start_time": "2025-03-05T18:05:27.660Z"
   },
   {
    "duration": 307,
    "start_time": "2025-03-05T18:07:26.066Z"
   },
   {
    "duration": 312,
    "start_time": "2025-03-05T18:07:32.568Z"
   },
   {
    "duration": 301,
    "start_time": "2025-03-05T18:11:40.665Z"
   },
   {
    "duration": 20,
    "start_time": "2025-03-05T18:18:33.167Z"
   },
   {
    "duration": 148,
    "start_time": "2025-03-05T18:18:49.866Z"
   },
   {
    "duration": 555,
    "start_time": "2025-03-05T18:19:09.345Z"
   },
   {
    "duration": 0,
    "start_time": "2025-03-05T18:20:58.705Z"
   },
   {
    "duration": 943,
    "start_time": "2025-03-05T18:21:00.469Z"
   },
   {
    "duration": 220,
    "start_time": "2025-03-05T18:21:21.796Z"
   },
   {
    "duration": 149,
    "start_time": "2025-03-05T18:21:41.242Z"
   },
   {
    "duration": 147,
    "start_time": "2025-03-05T18:22:26.405Z"
   },
   {
    "duration": 150,
    "start_time": "2025-03-05T18:22:31.961Z"
   },
   {
    "duration": 183,
    "start_time": "2025-03-05T18:25:56.439Z"
   },
   {
    "duration": 71,
    "start_time": "2025-03-05T18:26:51.721Z"
   },
   {
    "duration": 188,
    "start_time": "2025-03-05T18:26:59.861Z"
   },
   {
    "duration": 191,
    "start_time": "2025-03-05T18:27:29.047Z"
   },
   {
    "duration": 207,
    "start_time": "2025-03-05T18:28:19.182Z"
   },
   {
    "duration": 188,
    "start_time": "2025-03-05T18:28:35.944Z"
   },
   {
    "duration": 51,
    "start_time": "2025-03-05T18:40:19.433Z"
   },
   {
    "duration": 37,
    "start_time": "2025-03-05T18:40:26.455Z"
   },
   {
    "duration": 46,
    "start_time": "2025-03-05T18:40:46.355Z"
   },
   {
    "duration": 10,
    "start_time": "2025-03-05T18:46:03.173Z"
   },
   {
    "duration": 45,
    "start_time": "2025-03-05T18:47:23.252Z"
   },
   {
    "duration": 43,
    "start_time": "2025-03-05T18:47:34.248Z"
   },
   {
    "duration": 44,
    "start_time": "2025-03-05T18:48:23.985Z"
   },
   {
    "duration": 9,
    "start_time": "2025-03-05T18:50:23.954Z"
   },
   {
    "duration": 911,
    "start_time": "2025-03-05T18:54:07.971Z"
   },
   {
    "duration": 4,
    "start_time": "2025-03-05T18:54:51.246Z"
   },
   {
    "duration": 45,
    "start_time": "2025-03-05T18:54:57.617Z"
   },
   {
    "duration": 191,
    "start_time": "2025-03-05T18:55:05.302Z"
   },
   {
    "duration": 213,
    "start_time": "2025-03-05T18:55:48.940Z"
   },
   {
    "duration": 269,
    "start_time": "2025-03-05T18:56:32.187Z"
   },
   {
    "duration": 17,
    "start_time": "2025-03-05T19:04:26.907Z"
   },
   {
    "duration": 18,
    "start_time": "2025-03-05T19:04:43.305Z"
   },
   {
    "duration": 50,
    "start_time": "2025-03-05T19:07:17.879Z"
   },
   {
    "duration": 17,
    "start_time": "2025-03-05T19:08:36.200Z"
   },
   {
    "duration": 16,
    "start_time": "2025-03-05T19:08:49.705Z"
   },
   {
    "duration": 18,
    "start_time": "2025-03-05T19:10:06.577Z"
   },
   {
    "duration": 316,
    "start_time": "2025-03-05T19:11:28.087Z"
   },
   {
    "duration": 52,
    "start_time": "2025-03-05T19:11:43.106Z"
   },
   {
    "duration": 968,
    "start_time": "2025-03-05T19:14:48.453Z"
   },
   {
    "duration": 1045,
    "start_time": "2025-03-05T19:15:28.458Z"
   },
   {
    "duration": 971,
    "start_time": "2025-03-05T19:16:09.321Z"
   },
   {
    "duration": 924,
    "start_time": "2025-03-05T19:19:54.870Z"
   },
   {
    "duration": 47,
    "start_time": "2025-03-05T19:19:59.184Z"
   },
   {
    "duration": 996,
    "start_time": "2025-03-05T19:20:05.512Z"
   },
   {
    "duration": 1069,
    "start_time": "2025-03-05T19:20:27.189Z"
   },
   {
    "duration": 916,
    "start_time": "2025-03-05T19:20:39.859Z"
   },
   {
    "duration": 163,
    "start_time": "2025-03-05T19:22:30.728Z"
   },
   {
    "duration": 471,
    "start_time": "2025-03-05T19:47:39.072Z"
   },
   {
    "duration": 51,
    "start_time": "2025-03-05T20:03:37.209Z"
   },
   {
    "duration": 187,
    "start_time": "2025-03-05T20:04:35.870Z"
   },
   {
    "duration": 173,
    "start_time": "2025-03-05T20:04:51.587Z"
   },
   {
    "duration": 42,
    "start_time": "2025-03-05T20:07:58.965Z"
   },
   {
    "duration": 36,
    "start_time": "2025-03-05T20:13:23.394Z"
   },
   {
    "duration": 8,
    "start_time": "2025-03-05T20:13:36.681Z"
   },
   {
    "duration": 11,
    "start_time": "2025-03-05T20:13:44.290Z"
   },
   {
    "duration": 6,
    "start_time": "2025-03-05T20:18:07.509Z"
   },
   {
    "duration": 9,
    "start_time": "2025-03-05T20:18:46.293Z"
   },
   {
    "duration": 4,
    "start_time": "2025-03-05T20:19:34.191Z"
   },
   {
    "duration": 5,
    "start_time": "2025-03-05T20:19:40.463Z"
   },
   {
    "duration": 10,
    "start_time": "2025-03-05T20:22:41.458Z"
   },
   {
    "duration": 7,
    "start_time": "2025-03-05T20:23:03.521Z"
   },
   {
    "duration": 9,
    "start_time": "2025-03-05T20:23:47.742Z"
   },
   {
    "duration": 15,
    "start_time": "2025-03-05T20:24:03.332Z"
   },
   {
    "duration": 13,
    "start_time": "2025-03-05T20:25:23.350Z"
   },
   {
    "duration": 7,
    "start_time": "2025-03-05T20:29:35.342Z"
   },
   {
    "duration": 9,
    "start_time": "2025-03-05T20:29:39.559Z"
   },
   {
    "duration": 8,
    "start_time": "2025-03-05T20:29:44.299Z"
   },
   {
    "duration": 9,
    "start_time": "2025-03-05T20:29:57.313Z"
   },
   {
    "duration": 807,
    "start_time": "2025-03-07T07:43:28.232Z"
   },
   {
    "duration": 1133,
    "start_time": "2025-03-07T07:43:29.041Z"
   },
   {
    "duration": 354,
    "start_time": "2025-03-07T07:43:30.176Z"
   },
   {
    "duration": 47,
    "start_time": "2025-03-07T07:43:30.533Z"
   },
   {
    "duration": 288,
    "start_time": "2025-03-07T07:43:30.582Z"
   },
   {
    "duration": 504,
    "start_time": "2025-03-07T07:43:30.872Z"
   },
   {
    "duration": 172,
    "start_time": "2025-03-07T07:43:31.378Z"
   },
   {
    "duration": 43,
    "start_time": "2025-03-07T07:43:31.552Z"
   },
   {
    "duration": 246,
    "start_time": "2025-03-07T07:43:31.597Z"
   },
   {
    "duration": 65,
    "start_time": "2025-03-07T07:43:31.846Z"
   },
   {
    "duration": 0,
    "start_time": "2025-03-07T07:43:31.912Z"
   },
   {
    "duration": 0,
    "start_time": "2025-03-07T07:43:31.914Z"
   },
   {
    "duration": 0,
    "start_time": "2025-03-07T07:43:31.915Z"
   },
   {
    "duration": 0,
    "start_time": "2025-03-07T07:43:31.916Z"
   },
   {
    "duration": 0,
    "start_time": "2025-03-07T07:43:31.918Z"
   },
   {
    "duration": 0,
    "start_time": "2025-03-07T07:43:31.919Z"
   },
   {
    "duration": 0,
    "start_time": "2025-03-07T07:43:31.920Z"
   },
   {
    "duration": 0,
    "start_time": "2025-03-07T07:43:31.921Z"
   },
   {
    "duration": 6,
    "start_time": "2025-03-07T07:45:06.655Z"
   },
   {
    "duration": 43,
    "start_time": "2025-03-07T07:45:08.964Z"
   },
   {
    "duration": 154,
    "start_time": "2025-03-07T07:45:09.996Z"
   },
   {
    "duration": 509,
    "start_time": "2025-03-07T07:45:17.348Z"
   },
   {
    "duration": 157,
    "start_time": "2025-03-07T07:45:19.364Z"
   },
   {
    "duration": 31,
    "start_time": "2025-03-07T07:45:22.748Z"
   },
   {
    "duration": 8,
    "start_time": "2025-03-07T07:45:23.068Z"
   },
   {
    "duration": 4,
    "start_time": "2025-03-07T07:45:25.388Z"
   },
   {
    "duration": 9,
    "start_time": "2025-03-07T07:45:26.156Z"
   },
   {
    "duration": 241,
    "start_time": "2025-03-07T07:59:24.319Z"
   },
   {
    "duration": 11,
    "start_time": "2025-03-07T08:00:44.385Z"
   },
   {
    "duration": 12,
    "start_time": "2025-03-07T08:08:00.747Z"
   },
   {
    "duration": 12,
    "start_time": "2025-03-07T08:08:05.941Z"
   },
   {
    "duration": 67,
    "start_time": "2025-03-07T08:15:51.282Z"
   },
   {
    "duration": 69,
    "start_time": "2025-03-07T08:16:01.540Z"
   },
   {
    "duration": 70,
    "start_time": "2025-03-07T08:16:33.647Z"
   },
   {
    "duration": 11,
    "start_time": "2025-03-07T08:17:28.354Z"
   },
   {
    "duration": 13,
    "start_time": "2025-03-07T08:17:48.762Z"
   },
   {
    "duration": 14,
    "start_time": "2025-03-07T08:18:43.761Z"
   },
   {
    "duration": 15,
    "start_time": "2025-03-07T08:19:35.714Z"
   },
   {
    "duration": 14,
    "start_time": "2025-03-07T08:19:51.162Z"
   },
   {
    "duration": 5,
    "start_time": "2025-03-07T08:35:30.618Z"
   },
   {
    "duration": 8,
    "start_time": "2025-03-07T08:40:37.463Z"
   },
   {
    "duration": 6,
    "start_time": "2025-03-07T08:43:14.042Z"
   },
   {
    "duration": 9,
    "start_time": "2025-03-07T08:43:19.666Z"
   },
   {
    "duration": 1529,
    "start_time": "2025-03-07T09:03:55.864Z"
   },
   {
    "duration": 4,
    "start_time": "2025-03-07T09:05:16.580Z"
   },
   {
    "duration": 6,
    "start_time": "2025-03-07T09:05:22.057Z"
   },
   {
    "duration": 15,
    "start_time": "2025-03-07T09:06:29.793Z"
   },
   {
    "duration": 7,
    "start_time": "2025-03-07T09:06:47.968Z"
   },
   {
    "duration": 4,
    "start_time": "2025-03-07T10:27:57.079Z"
   },
   {
    "duration": 15,
    "start_time": "2025-03-07T10:58:51.606Z"
   },
   {
    "duration": 8,
    "start_time": "2025-03-07T10:59:00.545Z"
   },
   {
    "duration": 168,
    "start_time": "2025-03-07T11:09:31.199Z"
   },
   {
    "duration": 170,
    "start_time": "2025-03-07T11:09:46.103Z"
   },
   {
    "duration": 169,
    "start_time": "2025-03-07T11:10:06.512Z"
   },
   {
    "duration": 1559,
    "start_time": "2025-03-07T11:10:12.897Z"
   },
   {
    "duration": 1343,
    "start_time": "2025-03-07T11:11:13.160Z"
   },
   {
    "duration": 15,
    "start_time": "2025-03-07T11:13:01.985Z"
   },
   {
    "duration": 9,
    "start_time": "2025-03-07T11:14:05.911Z"
   },
   {
    "duration": 10,
    "start_time": "2025-03-07T11:14:43.877Z"
   },
   {
    "duration": 10,
    "start_time": "2025-03-07T11:16:37.944Z"
   },
   {
    "duration": 13,
    "start_time": "2025-03-07T11:16:53.668Z"
   },
   {
    "duration": 227,
    "start_time": "2025-03-07T11:17:37.294Z"
   },
   {
    "duration": 157,
    "start_time": "2025-03-07T11:17:51.101Z"
   },
   {
    "duration": 157,
    "start_time": "2025-03-07T11:18:02.711Z"
   },
   {
    "duration": 191,
    "start_time": "2025-03-07T11:18:17.649Z"
   },
   {
    "duration": 11,
    "start_time": "2025-03-07T11:21:45.674Z"
   },
   {
    "duration": 77,
    "start_time": "2025-03-07T11:27:24.564Z"
   },
   {
    "duration": 57,
    "start_time": "2025-03-07T11:27:31.174Z"
   },
   {
    "duration": 11,
    "start_time": "2025-03-07T11:27:45.064Z"
   },
   {
    "duration": 5,
    "start_time": "2025-03-07T11:27:47.044Z"
   },
   {
    "duration": 62,
    "start_time": "2025-03-07T11:27:49.030Z"
   },
   {
    "duration": 153,
    "start_time": "2025-03-07T11:28:01.561Z"
   },
   {
    "duration": 1359,
    "start_time": "2025-03-07T11:28:06.618Z"
   },
   {
    "duration": 12,
    "start_time": "2025-03-07T11:28:10.853Z"
   },
   {
    "duration": 6,
    "start_time": "2025-03-07T11:28:12.861Z"
   },
   {
    "duration": 5,
    "start_time": "2025-03-07T11:28:16.902Z"
   },
   {
    "duration": 1432,
    "start_time": "2025-03-07T11:28:19.253Z"
   },
   {
    "duration": 1337,
    "start_time": "2025-03-07T11:28:38.270Z"
   },
   {
    "duration": 1350,
    "start_time": "2025-03-07T11:29:19.430Z"
   },
   {
    "duration": 1421,
    "start_time": "2025-03-07T11:30:27.574Z"
   },
   {
    "duration": 1361,
    "start_time": "2025-03-07T11:30:46.839Z"
   },
   {
    "duration": 1734,
    "start_time": "2025-03-07T11:31:10.726Z"
   },
   {
    "duration": 372,
    "start_time": "2025-03-07T11:31:26.558Z"
   },
   {
    "duration": 11,
    "start_time": "2025-03-07T11:32:21.257Z"
   },
   {
    "duration": 4,
    "start_time": "2025-03-07T11:32:22.904Z"
   },
   {
    "duration": 1373,
    "start_time": "2025-03-07T11:32:33.938Z"
   },
   {
    "duration": 610,
    "start_time": "2025-03-07T11:32:45.176Z"
   },
   {
    "duration": 1034,
    "start_time": "2025-03-07T11:32:45.788Z"
   },
   {
    "duration": 331,
    "start_time": "2025-03-07T11:32:46.824Z"
   },
   {
    "duration": 37,
    "start_time": "2025-03-07T11:32:47.157Z"
   },
   {
    "duration": 360,
    "start_time": "2025-03-07T11:32:47.196Z"
   },
   {
    "duration": 492,
    "start_time": "2025-03-07T11:32:47.558Z"
   },
   {
    "duration": 170,
    "start_time": "2025-03-07T11:32:48.051Z"
   },
   {
    "duration": 67,
    "start_time": "2025-03-07T11:32:48.226Z"
   },
   {
    "duration": 173,
    "start_time": "2025-03-07T11:32:48.295Z"
   },
   {
    "duration": 6,
    "start_time": "2025-03-07T11:32:48.470Z"
   },
   {
    "duration": 41,
    "start_time": "2025-03-07T11:32:48.478Z"
   },
   {
    "duration": 159,
    "start_time": "2025-03-07T11:32:48.521Z"
   },
   {
    "duration": 492,
    "start_time": "2025-03-07T11:32:48.681Z"
   },
   {
    "duration": 152,
    "start_time": "2025-03-07T11:32:49.175Z"
   },
   {
    "duration": 29,
    "start_time": "2025-03-07T11:32:49.328Z"
   },
   {
    "duration": 6,
    "start_time": "2025-03-07T11:32:49.359Z"
   },
   {
    "duration": 4,
    "start_time": "2025-03-07T11:32:49.367Z"
   },
   {
    "duration": 7,
    "start_time": "2025-03-07T11:32:49.373Z"
   },
   {
    "duration": 19,
    "start_time": "2025-03-07T11:32:49.382Z"
   },
   {
    "duration": 12,
    "start_time": "2025-03-07T11:32:49.403Z"
   },
   {
    "duration": 175,
    "start_time": "2025-03-07T11:32:49.416Z"
   },
   {
    "duration": 11,
    "start_time": "2025-03-07T11:32:49.593Z"
   },
   {
    "duration": 4,
    "start_time": "2025-03-07T11:32:49.606Z"
   },
   {
    "duration": 1508,
    "start_time": "2025-03-07T11:32:49.612Z"
   },
   {
    "duration": 0,
    "start_time": "2025-03-07T11:32:51.121Z"
   },
   {
    "duration": 0,
    "start_time": "2025-03-07T11:32:51.122Z"
   },
   {
    "duration": 0,
    "start_time": "2025-03-07T11:32:51.123Z"
   },
   {
    "duration": 11,
    "start_time": "2025-03-07T11:33:29.002Z"
   },
   {
    "duration": 5,
    "start_time": "2025-03-07T11:33:30.459Z"
   },
   {
    "duration": 1473,
    "start_time": "2025-03-07T11:33:33.771Z"
   },
   {
    "duration": 335,
    "start_time": "2025-03-07T11:33:47.482Z"
   },
   {
    "duration": 602,
    "start_time": "2025-03-07T12:29:17.655Z"
   },
   {
    "duration": 481,
    "start_time": "2025-03-07T12:30:04.515Z"
   },
   {
    "duration": 508,
    "start_time": "2025-03-07T12:30:09.734Z"
   },
   {
    "duration": 480,
    "start_time": "2025-03-07T12:30:52.021Z"
   },
   {
    "duration": 63,
    "start_time": "2025-03-07T12:37:13.304Z"
   },
   {
    "duration": 159,
    "start_time": "2025-03-07T12:37:57.690Z"
   },
   {
    "duration": 181,
    "start_time": "2025-03-07T12:38:15.688Z"
   },
   {
    "duration": 164,
    "start_time": "2025-03-07T12:38:53.058Z"
   },
   {
    "duration": 9,
    "start_time": "2025-03-07T12:43:02.420Z"
   },
   {
    "duration": 49,
    "start_time": "2025-03-07T12:43:04.095Z"
   },
   {
    "duration": 152,
    "start_time": "2025-03-07T12:43:05.129Z"
   },
   {
    "duration": 158,
    "start_time": "2025-03-07T12:44:10.330Z"
   },
   {
    "duration": 150,
    "start_time": "2025-03-07T12:50:31.982Z"
   },
   {
    "duration": 259,
    "start_time": "2025-03-07T13:33:09.804Z"
   },
   {
    "duration": 241,
    "start_time": "2025-03-07T13:45:22.468Z"
   },
   {
    "duration": 11,
    "start_time": "2025-03-07T13:45:24.633Z"
   },
   {
    "duration": 22,
    "start_time": "2025-03-07T13:45:43.572Z"
   },
   {
    "duration": 44,
    "start_time": "2025-03-07T13:58:03.162Z"
   },
   {
    "duration": 45,
    "start_time": "2025-03-07T13:58:09.600Z"
   },
   {
    "duration": 134,
    "start_time": "2025-03-07T14:05:55.433Z"
   },
   {
    "duration": 101,
    "start_time": "2025-03-07T14:06:14.155Z"
   },
   {
    "duration": 46,
    "start_time": "2025-03-07T14:12:33.659Z"
   },
   {
    "duration": 11,
    "start_time": "2025-03-07T14:16:15.345Z"
   },
   {
    "duration": 92,
    "start_time": "2025-03-07T14:16:32.572Z"
   },
   {
    "duration": 8,
    "start_time": "2025-03-07T14:16:40.445Z"
   },
   {
    "duration": 7,
    "start_time": "2025-03-07T14:19:04.726Z"
   },
   {
    "duration": 44,
    "start_time": "2025-03-07T14:19:06.788Z"
   },
   {
    "duration": 10,
    "start_time": "2025-03-07T14:21:37.055Z"
   },
   {
    "duration": 61,
    "start_time": "2025-03-07T14:33:06.120Z"
   },
   {
    "duration": 5,
    "start_time": "2025-03-07T14:34:05.806Z"
   },
   {
    "duration": 59,
    "start_time": "2025-03-07T14:34:53.958Z"
   },
   {
    "duration": 53,
    "start_time": "2025-03-07T14:36:03.679Z"
   },
   {
    "duration": 46,
    "start_time": "2025-03-07T14:43:11.707Z"
   },
   {
    "duration": 43,
    "start_time": "2025-03-07T14:43:24.666Z"
   },
   {
    "duration": 56,
    "start_time": "2025-03-07T14:44:07.852Z"
   },
   {
    "duration": 636,
    "start_time": "2025-03-07T14:48:27.690Z"
   },
   {
    "duration": 1037,
    "start_time": "2025-03-07T14:48:28.328Z"
   },
   {
    "duration": 347,
    "start_time": "2025-03-07T14:48:29.367Z"
   },
   {
    "duration": 45,
    "start_time": "2025-03-07T14:48:29.716Z"
   },
   {
    "duration": 296,
    "start_time": "2025-03-07T14:48:29.762Z"
   },
   {
    "duration": 518,
    "start_time": "2025-03-07T14:48:30.060Z"
   },
   {
    "duration": 185,
    "start_time": "2025-03-07T14:48:30.580Z"
   },
   {
    "duration": 45,
    "start_time": "2025-03-07T14:48:30.767Z"
   },
   {
    "duration": 183,
    "start_time": "2025-03-07T14:48:30.814Z"
   },
   {
    "duration": 6,
    "start_time": "2025-03-07T14:48:31.000Z"
   },
   {
    "duration": 86,
    "start_time": "2025-03-07T14:48:31.008Z"
   },
   {
    "duration": 207,
    "start_time": "2025-03-07T14:48:31.096Z"
   },
   {
    "duration": 478,
    "start_time": "2025-03-07T14:48:31.304Z"
   },
   {
    "duration": 78,
    "start_time": "2025-03-07T14:48:31.784Z"
   },
   {
    "duration": 31,
    "start_time": "2025-03-07T14:48:31.863Z"
   },
   {
    "duration": 6,
    "start_time": "2025-03-07T14:48:31.896Z"
   },
   {
    "duration": 7,
    "start_time": "2025-03-07T14:48:31.903Z"
   },
   {
    "duration": 19,
    "start_time": "2025-03-07T14:48:31.911Z"
   },
   {
    "duration": 17,
    "start_time": "2025-03-07T14:48:31.931Z"
   },
   {
    "duration": 57,
    "start_time": "2025-03-07T14:48:31.950Z"
   },
   {
    "duration": 183,
    "start_time": "2025-03-07T14:48:32.009Z"
   },
   {
    "duration": 11,
    "start_time": "2025-03-07T14:48:32.193Z"
   },
   {
    "duration": 11,
    "start_time": "2025-03-07T14:48:32.205Z"
   },
   {
    "duration": 432,
    "start_time": "2025-03-07T14:48:32.218Z"
   },
   {
    "duration": 237,
    "start_time": "2025-03-07T14:48:32.652Z"
   },
   {
    "duration": 12,
    "start_time": "2025-03-07T14:48:32.891Z"
   },
   {
    "duration": 59,
    "start_time": "2025-03-07T14:48:32.904Z"
   },
   {
    "duration": 76,
    "start_time": "2025-03-07T14:48:32.966Z"
   },
   {
    "duration": 52,
    "start_time": "2025-03-07T14:48:33.044Z"
   },
   {
    "duration": 138,
    "start_time": "2025-03-07T14:48:33.098Z"
   },
   {
    "duration": 60,
    "start_time": "2025-03-07T14:48:33.238Z"
   },
   {
    "duration": 1849,
    "start_time": "2025-03-07T18:45:24.114Z"
   },
   {
    "duration": 4402,
    "start_time": "2025-03-07T18:45:25.966Z"
   },
   {
    "duration": 1094,
    "start_time": "2025-03-07T18:45:30.370Z"
   },
   {
    "duration": 310,
    "start_time": "2025-03-07T18:45:31.467Z"
   },
   {
    "duration": 1205,
    "start_time": "2025-03-07T18:45:31.779Z"
   },
   {
    "duration": 2089,
    "start_time": "2025-03-07T18:45:32.986Z"
   },
   {
    "duration": 594,
    "start_time": "2025-03-07T18:45:35.077Z"
   },
   {
    "duration": 207,
    "start_time": "2025-03-07T18:45:35.673Z"
   },
   {
    "duration": 787,
    "start_time": "2025-03-07T18:45:35.882Z"
   },
   {
    "duration": 7,
    "start_time": "2025-03-07T18:45:36.672Z"
   },
   {
    "duration": 384,
    "start_time": "2025-03-07T18:45:36.681Z"
   },
   {
    "duration": 712,
    "start_time": "2025-03-07T18:45:37.068Z"
   },
   {
    "duration": 1290,
    "start_time": "2025-03-07T18:45:37.782Z"
   },
   {
    "duration": 201,
    "start_time": "2025-03-07T18:45:39.076Z"
   },
   {
    "duration": 91,
    "start_time": "2025-03-07T18:45:39.279Z"
   },
   {
    "duration": 7,
    "start_time": "2025-03-07T18:45:39.372Z"
   },
   {
    "duration": 17,
    "start_time": "2025-03-07T18:45:39.381Z"
   },
   {
    "duration": 67,
    "start_time": "2025-03-07T18:45:39.400Z"
   },
   {
    "duration": 13,
    "start_time": "2025-03-07T18:45:39.469Z"
   },
   {
    "duration": 5,
    "start_time": "2025-03-07T18:45:39.484Z"
   },
   {
    "duration": 482,
    "start_time": "2025-03-07T18:45:39.490Z"
   },
   {
    "duration": 11,
    "start_time": "2025-03-07T18:45:39.974Z"
   },
   {
    "duration": 98,
    "start_time": "2025-03-07T18:45:39.987Z"
   },
   {
    "duration": 885,
    "start_time": "2025-03-07T18:45:40.087Z"
   },
   {
    "duration": 722,
    "start_time": "2025-03-07T18:45:40.973Z"
   },
   {
    "duration": 66,
    "start_time": "2025-03-07T18:45:41.696Z"
   },
   {
    "duration": 111,
    "start_time": "2025-03-07T18:45:41.764Z"
   },
   {
    "duration": 8,
    "start_time": "2025-03-07T18:45:41.878Z"
   },
   {
    "duration": 93,
    "start_time": "2025-03-07T18:45:41.888Z"
   },
   {
    "duration": 215,
    "start_time": "2025-03-07T18:45:41.983Z"
   },
   {
    "duration": 8,
    "start_time": "2025-03-07T18:50:15.765Z"
   },
   {
    "duration": 4,
    "start_time": "2025-03-07T18:50:22.300Z"
   },
   {
    "duration": 52,
    "start_time": "2025-03-07T18:50:27.180Z"
   },
   {
    "duration": 98,
    "start_time": "2025-03-07T18:50:36.675Z"
   },
   {
    "duration": 29,
    "start_time": "2025-03-07T19:16:58.195Z"
   },
   {
    "duration": 32,
    "start_time": "2025-03-07T19:17:08.674Z"
   },
   {
    "duration": 676,
    "start_time": "2025-03-07T19:17:49.683Z"
   },
   {
    "duration": 1374,
    "start_time": "2025-03-07T19:17:50.361Z"
   },
   {
    "duration": 373,
    "start_time": "2025-03-07T19:17:51.738Z"
   },
   {
    "duration": 322,
    "start_time": "2025-03-07T19:17:52.113Z"
   },
   {
    "duration": 556,
    "start_time": "2025-03-07T19:17:52.439Z"
   },
   {
    "duration": 197,
    "start_time": "2025-03-07T19:17:52.997Z"
   },
   {
    "duration": 40,
    "start_time": "2025-03-07T19:17:53.196Z"
   },
   {
    "duration": 208,
    "start_time": "2025-03-07T19:17:53.239Z"
   },
   {
    "duration": 15,
    "start_time": "2025-03-07T19:17:53.449Z"
   },
   {
    "duration": 91,
    "start_time": "2025-03-07T19:17:53.466Z"
   },
   {
    "duration": 160,
    "start_time": "2025-03-07T19:17:53.559Z"
   },
   {
    "duration": 483,
    "start_time": "2025-03-07T19:17:53.721Z"
   },
   {
    "duration": 105,
    "start_time": "2025-03-07T19:17:54.206Z"
   },
   {
    "duration": 31,
    "start_time": "2025-03-07T19:17:54.315Z"
   },
   {
    "duration": 16,
    "start_time": "2025-03-07T19:17:54.347Z"
   },
   {
    "duration": 79,
    "start_time": "2025-03-07T19:17:54.364Z"
   },
   {
    "duration": 20,
    "start_time": "2025-03-07T19:17:54.445Z"
   },
   {
    "duration": 122,
    "start_time": "2025-03-07T19:17:54.467Z"
   },
   {
    "duration": 159,
    "start_time": "2025-03-07T19:17:54.592Z"
   },
   {
    "duration": 209,
    "start_time": "2025-03-07T19:17:54.753Z"
   },
   {
    "duration": 14,
    "start_time": "2025-03-07T19:17:54.965Z"
   },
   {
    "duration": 27,
    "start_time": "2025-03-07T19:17:54.980Z"
   },
   {
    "duration": 399,
    "start_time": "2025-03-07T19:17:55.009Z"
   },
   {
    "duration": 261,
    "start_time": "2025-03-07T19:17:55.410Z"
   },
   {
    "duration": 26,
    "start_time": "2025-03-07T19:17:55.673Z"
   },
   {
    "duration": 100,
    "start_time": "2025-03-07T19:17:55.702Z"
   },
   {
    "duration": 9,
    "start_time": "2025-03-07T19:17:55.804Z"
   },
   {
    "duration": 52,
    "start_time": "2025-03-07T19:17:55.815Z"
   },
   {
    "duration": 63,
    "start_time": "2025-03-07T19:17:55.868Z"
   },
   {
    "duration": 649,
    "start_time": "2025-03-07T19:19:40.080Z"
   },
   {
    "duration": 1056,
    "start_time": "2025-03-07T19:19:40.731Z"
   },
   {
    "duration": 675,
    "start_time": "2025-03-07T19:19:41.789Z"
   },
   {
    "duration": 662,
    "start_time": "2025-03-07T19:19:42.466Z"
   },
   {
    "duration": 1106,
    "start_time": "2025-03-07T19:19:43.131Z"
   },
   {
    "duration": 330,
    "start_time": "2025-03-07T19:19:44.263Z"
   },
   {
    "duration": 176,
    "start_time": "2025-03-07T19:19:44.595Z"
   },
   {
    "duration": 495,
    "start_time": "2025-03-07T19:19:44.773Z"
   },
   {
    "duration": 9,
    "start_time": "2025-03-07T19:19:45.270Z"
   },
   {
    "duration": 182,
    "start_time": "2025-03-07T19:19:45.281Z"
   },
   {
    "duration": 424,
    "start_time": "2025-03-07T19:19:45.466Z"
   },
   {
    "duration": 636,
    "start_time": "2025-03-07T19:19:45.893Z"
   },
   {
    "duration": 146,
    "start_time": "2025-03-07T19:19:46.531Z"
   },
   {
    "duration": 83,
    "start_time": "2025-03-07T19:19:46.679Z"
   },
   {
    "duration": 8,
    "start_time": "2025-03-07T19:19:46.764Z"
   },
   {
    "duration": 15,
    "start_time": "2025-03-07T19:19:46.774Z"
   },
   {
    "duration": 13,
    "start_time": "2025-03-07T19:19:46.791Z"
   },
   {
    "duration": 13,
    "start_time": "2025-03-07T19:19:46.862Z"
   },
   {
    "duration": 11,
    "start_time": "2025-03-07T19:19:46.878Z"
   },
   {
    "duration": 394,
    "start_time": "2025-03-07T19:19:46.890Z"
   },
   {
    "duration": 12,
    "start_time": "2025-03-07T19:19:47.286Z"
   },
   {
    "duration": 66,
    "start_time": "2025-03-07T19:19:47.300Z"
   },
   {
    "duration": 703,
    "start_time": "2025-03-07T19:19:47.368Z"
   },
   {
    "duration": 590,
    "start_time": "2025-03-07T19:19:48.073Z"
   },
   {
    "duration": 15,
    "start_time": "2025-03-07T19:19:48.666Z"
   },
   {
    "duration": 116,
    "start_time": "2025-03-07T19:19:48.683Z"
   },
   {
    "duration": 62,
    "start_time": "2025-03-07T19:19:48.802Z"
   },
   {
    "duration": 32,
    "start_time": "2025-03-07T19:19:48.866Z"
   },
   {
    "duration": 163,
    "start_time": "2025-03-07T19:19:48.900Z"
   },
   {
    "duration": 50,
    "start_time": "2025-03-10T08:10:05.174Z"
   },
   {
    "duration": 814,
    "start_time": "2025-03-10T08:10:10.846Z"
   },
   {
    "duration": 1006,
    "start_time": "2025-03-10T08:10:11.662Z"
   },
   {
    "duration": 333,
    "start_time": "2025-03-10T08:10:12.670Z"
   },
   {
    "duration": 41,
    "start_time": "2025-03-10T08:10:13.005Z"
   },
   {
    "duration": 301,
    "start_time": "2025-03-10T08:10:13.057Z"
   },
   {
    "duration": 496,
    "start_time": "2025-03-10T08:10:13.359Z"
   },
   {
    "duration": 179,
    "start_time": "2025-03-10T08:10:13.857Z"
   },
   {
    "duration": 47,
    "start_time": "2025-03-10T08:10:14.037Z"
   },
   {
    "duration": 172,
    "start_time": "2025-03-10T08:10:14.085Z"
   },
   {
    "duration": 6,
    "start_time": "2025-03-10T08:10:14.260Z"
   },
   {
    "duration": 47,
    "start_time": "2025-03-10T08:10:14.268Z"
   },
   {
    "duration": 156,
    "start_time": "2025-03-10T08:10:14.317Z"
   },
   {
    "duration": 521,
    "start_time": "2025-03-10T08:10:14.475Z"
   },
   {
    "duration": 78,
    "start_time": "2025-03-10T08:10:14.998Z"
   },
   {
    "duration": 31,
    "start_time": "2025-03-10T08:10:15.077Z"
   },
   {
    "duration": 6,
    "start_time": "2025-03-10T08:10:15.109Z"
   },
   {
    "duration": 17,
    "start_time": "2025-03-10T08:10:15.116Z"
   },
   {
    "duration": 26,
    "start_time": "2025-03-10T08:10:15.134Z"
   },
   {
    "duration": 28,
    "start_time": "2025-03-10T08:10:15.161Z"
   },
   {
    "duration": 7,
    "start_time": "2025-03-10T08:10:15.191Z"
   },
   {
    "duration": 196,
    "start_time": "2025-03-10T08:10:15.199Z"
   },
   {
    "duration": 10,
    "start_time": "2025-03-10T08:10:15.396Z"
   },
   {
    "duration": 85,
    "start_time": "2025-03-10T08:10:15.407Z"
   },
   {
    "duration": 414,
    "start_time": "2025-03-10T08:10:15.494Z"
   },
   {
    "duration": 249,
    "start_time": "2025-03-10T08:10:15.909Z"
   },
   {
    "duration": 13,
    "start_time": "2025-03-10T08:10:16.160Z"
   },
   {
    "duration": 51,
    "start_time": "2025-03-10T08:10:16.174Z"
   },
   {
    "duration": 7,
    "start_time": "2025-03-10T08:10:16.229Z"
   },
   {
    "duration": 15,
    "start_time": "2025-03-10T08:10:16.257Z"
   },
   {
    "duration": 55,
    "start_time": "2025-03-10T08:10:16.273Z"
   },
   {
    "duration": 50,
    "start_time": "2025-03-10T08:11:22.387Z"
   },
   {
    "duration": 4,
    "start_time": "2025-03-10T08:11:33.717Z"
   },
   {
    "duration": 554,
    "start_time": "2025-03-10T08:20:58.174Z"
   },
   {
    "duration": 299,
    "start_time": "2025-03-10T08:21:22.040Z"
   },
   {
    "duration": 254,
    "start_time": "2025-03-10T08:21:34.922Z"
   },
   {
    "duration": 15,
    "start_time": "2025-03-10T08:23:16.313Z"
   },
   {
    "duration": 105,
    "start_time": "2025-03-10T08:25:44.739Z"
   },
   {
    "duration": 9,
    "start_time": "2025-03-10T08:26:00.082Z"
   },
   {
    "duration": 10,
    "start_time": "2025-03-10T08:26:04.197Z"
   },
   {
    "duration": 91,
    "start_time": "2025-03-10T08:33:27.299Z"
   },
   {
    "duration": 75,
    "start_time": "2025-03-10T08:33:53.978Z"
   },
   {
    "duration": 81,
    "start_time": "2025-03-10T08:34:24.600Z"
   },
   {
    "duration": 79,
    "start_time": "2025-03-10T08:34:40.865Z"
   },
   {
    "duration": 78,
    "start_time": "2025-03-10T08:34:47.834Z"
   },
   {
    "duration": 79,
    "start_time": "2025-03-10T08:35:41.810Z"
   },
   {
    "duration": 70,
    "start_time": "2025-03-10T08:43:26.718Z"
   },
   {
    "duration": 79,
    "start_time": "2025-03-10T08:50:06.916Z"
   },
   {
    "duration": 22,
    "start_time": "2025-03-10T09:07:07.263Z"
   },
   {
    "duration": 11,
    "start_time": "2025-03-10T09:07:17.205Z"
   },
   {
    "duration": 11,
    "start_time": "2025-03-10T09:21:54.006Z"
   },
   {
    "duration": 12,
    "start_time": "2025-03-10T09:22:00.052Z"
   },
   {
    "duration": 5,
    "start_time": "2025-03-10T09:26:10.604Z"
   },
   {
    "duration": 9,
    "start_time": "2025-03-10T09:30:38.748Z"
   },
   {
    "duration": 5,
    "start_time": "2025-03-10T09:30:51.980Z"
   },
   {
    "duration": 9,
    "start_time": "2025-03-10T09:31:10.381Z"
   },
   {
    "duration": 6,
    "start_time": "2025-03-10T09:31:58.517Z"
   },
   {
    "duration": 9,
    "start_time": "2025-03-10T09:32:59.351Z"
   },
   {
    "duration": 11,
    "start_time": "2025-03-10T09:33:05.573Z"
   },
   {
    "duration": 178,
    "start_time": "2025-03-10T09:34:43.081Z"
   },
   {
    "duration": 9,
    "start_time": "2025-03-10T09:39:55.466Z"
   },
   {
    "duration": 16,
    "start_time": "2025-03-10T09:40:18.019Z"
   },
   {
    "duration": 1182,
    "start_time": "2025-03-10T09:41:40.334Z"
   },
   {
    "duration": 6,
    "start_time": "2025-03-10T09:41:57.021Z"
   },
   {
    "duration": 1179,
    "start_time": "2025-03-10T09:42:03.466Z"
   },
   {
    "duration": 8,
    "start_time": "2025-03-10T09:42:34.366Z"
   },
   {
    "duration": 12,
    "start_time": "2025-03-10T09:42:51.339Z"
   },
   {
    "duration": 10,
    "start_time": "2025-03-10T09:42:53.272Z"
   },
   {
    "duration": 6,
    "start_time": "2025-03-10T09:42:54.973Z"
   },
   {
    "duration": 489,
    "start_time": "2025-03-10T09:42:56.919Z"
   },
   {
    "duration": 9,
    "start_time": "2025-03-10T09:43:44.005Z"
   },
   {
    "duration": 11,
    "start_time": "2025-03-10T09:43:52.756Z"
   },
   {
    "duration": 23,
    "start_time": "2025-03-10T09:48:18.223Z"
   },
   {
    "duration": 10,
    "start_time": "2025-03-10T09:50:09.738Z"
   },
   {
    "duration": 104,
    "start_time": "2025-03-10T10:40:24.995Z"
   },
   {
    "duration": 643,
    "start_time": "2025-03-10T10:43:11.478Z"
   },
   {
    "duration": 1022,
    "start_time": "2025-03-10T10:43:12.123Z"
   },
   {
    "duration": 365,
    "start_time": "2025-03-10T10:43:13.146Z"
   },
   {
    "duration": 47,
    "start_time": "2025-03-10T10:43:13.513Z"
   },
   {
    "duration": 300,
    "start_time": "2025-03-10T10:43:13.562Z"
   },
   {
    "duration": 527,
    "start_time": "2025-03-10T10:43:13.864Z"
   },
   {
    "duration": 177,
    "start_time": "2025-03-10T10:43:14.393Z"
   },
   {
    "duration": 41,
    "start_time": "2025-03-10T10:43:14.571Z"
   },
   {
    "duration": 186,
    "start_time": "2025-03-10T10:43:14.614Z"
   },
   {
    "duration": 5,
    "start_time": "2025-03-10T10:43:14.803Z"
   },
   {
    "duration": 59,
    "start_time": "2025-03-10T10:43:14.809Z"
   },
   {
    "duration": 164,
    "start_time": "2025-03-10T10:43:14.869Z"
   },
   {
    "duration": 459,
    "start_time": "2025-03-10T10:43:15.034Z"
   },
   {
    "duration": 76,
    "start_time": "2025-03-10T10:43:15.495Z"
   },
   {
    "duration": 31,
    "start_time": "2025-03-10T10:43:15.573Z"
   },
   {
    "duration": 6,
    "start_time": "2025-03-10T10:43:15.606Z"
   },
   {
    "duration": 89,
    "start_time": "2025-03-10T10:43:15.613Z"
   },
   {
    "duration": 5,
    "start_time": "2025-03-10T10:43:15.703Z"
   },
   {
    "duration": 27,
    "start_time": "2025-03-10T10:43:15.709Z"
   },
   {
    "duration": 15,
    "start_time": "2025-03-10T10:43:15.737Z"
   },
   {
    "duration": 18,
    "start_time": "2025-03-10T10:43:15.753Z"
   },
   {
    "duration": 22,
    "start_time": "2025-03-10T10:43:15.772Z"
   },
   {
    "duration": 263,
    "start_time": "2025-03-10T10:43:15.796Z"
   },
   {
    "duration": 11,
    "start_time": "2025-03-10T10:43:16.061Z"
   },
   {
    "duration": 10,
    "start_time": "2025-03-10T10:43:16.074Z"
   },
   {
    "duration": 7,
    "start_time": "2025-03-10T10:43:16.085Z"
   },
   {
    "duration": 364,
    "start_time": "2025-03-10T10:43:16.093Z"
   },
   {
    "duration": 244,
    "start_time": "2025-03-10T10:43:16.460Z"
   },
   {
    "duration": 12,
    "start_time": "2025-03-10T10:43:16.705Z"
   },
   {
    "duration": 51,
    "start_time": "2025-03-10T10:43:16.719Z"
   },
   {
    "duration": 7,
    "start_time": "2025-03-10T10:43:16.771Z"
   },
   {
    "duration": 41,
    "start_time": "2025-03-10T10:43:16.780Z"
   },
   {
    "duration": 73,
    "start_time": "2025-03-10T10:43:16.823Z"
   },
   {
    "duration": 97,
    "start_time": "2025-03-10T10:45:10.919Z"
   },
   {
    "duration": 51,
    "start_time": "2025-03-10T10:45:16.902Z"
   },
   {
    "duration": 54,
    "start_time": "2025-03-10T10:46:08.361Z"
   },
   {
    "duration": 843,
    "start_time": "2025-03-10T18:56:10.107Z"
   },
   {
    "duration": 972,
    "start_time": "2025-03-10T18:56:10.952Z"
   },
   {
    "duration": 307,
    "start_time": "2025-03-10T18:56:11.926Z"
   },
   {
    "duration": 40,
    "start_time": "2025-03-10T18:56:12.234Z"
   },
   {
    "duration": 265,
    "start_time": "2025-03-10T18:56:12.276Z"
   },
   {
    "duration": 529,
    "start_time": "2025-03-10T18:56:12.543Z"
   },
   {
    "duration": 180,
    "start_time": "2025-03-10T18:56:13.074Z"
   },
   {
    "duration": 41,
    "start_time": "2025-03-10T18:56:13.255Z"
   },
   {
    "duration": 190,
    "start_time": "2025-03-10T18:56:13.297Z"
   },
   {
    "duration": 5,
    "start_time": "2025-03-10T18:56:13.489Z"
   },
   {
    "duration": 55,
    "start_time": "2025-03-10T18:56:13.495Z"
   },
   {
    "duration": 165,
    "start_time": "2025-03-10T18:56:13.552Z"
   },
   {
    "duration": 477,
    "start_time": "2025-03-10T18:56:13.719Z"
   },
   {
    "duration": 72,
    "start_time": "2025-03-10T18:56:14.200Z"
   },
   {
    "duration": 28,
    "start_time": "2025-03-10T18:56:14.274Z"
   },
   {
    "duration": 41,
    "start_time": "2025-03-10T18:56:14.304Z"
   },
   {
    "duration": 74,
    "start_time": "2025-03-10T18:56:14.347Z"
   },
   {
    "duration": 7,
    "start_time": "2025-03-10T18:56:14.423Z"
   },
   {
    "duration": 8,
    "start_time": "2025-03-10T18:56:14.431Z"
   },
   {
    "duration": 11,
    "start_time": "2025-03-10T18:56:14.441Z"
   },
   {
    "duration": 4,
    "start_time": "2025-03-10T18:56:14.454Z"
   },
   {
    "duration": 75,
    "start_time": "2025-03-10T18:56:14.459Z"
   },
   {
    "duration": 170,
    "start_time": "2025-03-10T18:56:14.535Z"
   },
   {
    "duration": 11,
    "start_time": "2025-03-10T18:56:14.707Z"
   },
   {
    "duration": 12,
    "start_time": "2025-03-10T18:56:14.720Z"
   },
   {
    "duration": 11,
    "start_time": "2025-03-10T18:56:14.734Z"
   },
   {
    "duration": 432,
    "start_time": "2025-03-10T18:56:14.747Z"
   },
   {
    "duration": 238,
    "start_time": "2025-03-10T18:56:15.180Z"
   },
   {
    "duration": 17,
    "start_time": "2025-03-10T18:56:15.420Z"
   },
   {
    "duration": 46,
    "start_time": "2025-03-10T18:56:15.439Z"
   },
   {
    "duration": 8,
    "start_time": "2025-03-10T18:56:15.487Z"
   },
   {
    "duration": 47,
    "start_time": "2025-03-10T18:56:15.497Z"
   },
   {
    "duration": 74,
    "start_time": "2025-03-10T18:56:15.546Z"
   },
   {
    "duration": 4,
    "start_time": "2025-03-10T19:00:49.405Z"
   },
   {
    "duration": 5,
    "start_time": "2025-03-10T19:00:49.996Z"
   },
   {
    "duration": 643,
    "start_time": "2025-03-10T19:01:05.703Z"
   },
   {
    "duration": 1048,
    "start_time": "2025-03-10T19:01:06.348Z"
   },
   {
    "duration": 374,
    "start_time": "2025-03-10T19:01:07.398Z"
   },
   {
    "duration": 40,
    "start_time": "2025-03-10T19:01:07.775Z"
   },
   {
    "duration": 314,
    "start_time": "2025-03-10T19:01:07.817Z"
   },
   {
    "duration": 559,
    "start_time": "2025-03-10T19:01:08.133Z"
   },
   {
    "duration": 186,
    "start_time": "2025-03-10T19:01:08.694Z"
   },
   {
    "duration": 54,
    "start_time": "2025-03-10T19:01:08.881Z"
   },
   {
    "duration": 180,
    "start_time": "2025-03-10T19:01:08.937Z"
   },
   {
    "duration": 10,
    "start_time": "2025-03-10T19:01:09.121Z"
   },
   {
    "duration": 56,
    "start_time": "2025-03-10T19:01:09.133Z"
   },
   {
    "duration": 172,
    "start_time": "2025-03-10T19:01:09.191Z"
   },
   {
    "duration": 498,
    "start_time": "2025-03-10T19:01:09.366Z"
   },
   {
    "duration": 78,
    "start_time": "2025-03-10T19:01:09.866Z"
   },
   {
    "duration": 30,
    "start_time": "2025-03-10T19:01:09.946Z"
   },
   {
    "duration": 7,
    "start_time": "2025-03-10T19:01:09.977Z"
   },
   {
    "duration": 86,
    "start_time": "2025-03-10T19:01:09.986Z"
   },
   {
    "duration": 4,
    "start_time": "2025-03-10T19:01:10.074Z"
   },
   {
    "duration": 30,
    "start_time": "2025-03-10T19:01:10.080Z"
   },
   {
    "duration": 13,
    "start_time": "2025-03-10T19:01:10.111Z"
   },
   {
    "duration": 7,
    "start_time": "2025-03-10T19:01:10.125Z"
   },
   {
    "duration": 87,
    "start_time": "2025-03-10T19:01:10.134Z"
   },
   {
    "duration": 165,
    "start_time": "2025-03-10T19:01:10.222Z"
   },
   {
    "duration": 12,
    "start_time": "2025-03-10T19:01:10.389Z"
   },
   {
    "duration": 4,
    "start_time": "2025-03-10T19:01:10.403Z"
   },
   {
    "duration": 23,
    "start_time": "2025-03-10T19:01:10.408Z"
   },
   {
    "duration": 334,
    "start_time": "2025-03-10T19:01:10.433Z"
   },
   {
    "duration": 235,
    "start_time": "2025-03-10T19:01:10.770Z"
   },
   {
    "duration": 13,
    "start_time": "2025-03-10T19:01:11.006Z"
   },
   {
    "duration": 48,
    "start_time": "2025-03-10T19:01:11.030Z"
   },
   {
    "duration": 6,
    "start_time": "2025-03-10T19:01:11.080Z"
   },
   {
    "duration": 24,
    "start_time": "2025-03-10T19:01:11.088Z"
   },
   {
    "duration": 69,
    "start_time": "2025-03-10T19:01:11.114Z"
   },
   {
    "duration": 7,
    "start_time": "2025-03-10T19:03:23.602Z"
   },
   {
    "duration": 688,
    "start_time": "2025-03-10T19:17:22.534Z"
   },
   {
    "duration": 1063,
    "start_time": "2025-03-10T19:17:23.224Z"
   },
   {
    "duration": 326,
    "start_time": "2025-03-10T19:17:24.289Z"
   },
   {
    "duration": 44,
    "start_time": "2025-03-10T19:17:24.617Z"
   },
   {
    "duration": 288,
    "start_time": "2025-03-10T19:17:24.662Z"
   },
   {
    "duration": 557,
    "start_time": "2025-03-10T19:17:24.952Z"
   },
   {
    "duration": 203,
    "start_time": "2025-03-10T19:17:25.511Z"
   },
   {
    "duration": 47,
    "start_time": "2025-03-10T19:17:25.716Z"
   },
   {
    "duration": 191,
    "start_time": "2025-03-10T19:17:25.765Z"
   },
   {
    "duration": 5,
    "start_time": "2025-03-10T19:17:25.958Z"
   },
   {
    "duration": 56,
    "start_time": "2025-03-10T19:17:25.965Z"
   },
   {
    "duration": 170,
    "start_time": "2025-03-10T19:17:26.022Z"
   },
   {
    "duration": 471,
    "start_time": "2025-03-10T19:17:26.193Z"
   },
   {
    "duration": 77,
    "start_time": "2025-03-10T19:17:26.666Z"
   },
   {
    "duration": 30,
    "start_time": "2025-03-10T19:17:26.744Z"
   },
   {
    "duration": 5,
    "start_time": "2025-03-10T19:17:26.775Z"
   },
   {
    "duration": 100,
    "start_time": "2025-03-10T19:17:26.782Z"
   },
   {
    "duration": 4,
    "start_time": "2025-03-10T19:17:26.884Z"
   },
   {
    "duration": 21,
    "start_time": "2025-03-10T19:17:26.890Z"
   },
   {
    "duration": 16,
    "start_time": "2025-03-10T19:17:26.929Z"
   },
   {
    "duration": 71,
    "start_time": "2025-03-10T19:17:26.947Z"
   },
   {
    "duration": 8,
    "start_time": "2025-03-10T19:17:27.019Z"
   },
   {
    "duration": 201,
    "start_time": "2025-03-10T19:17:27.029Z"
   },
   {
    "duration": 12,
    "start_time": "2025-03-10T19:17:27.231Z"
   },
   {
    "duration": 19,
    "start_time": "2025-03-10T19:17:27.245Z"
   },
   {
    "duration": 24,
    "start_time": "2025-03-10T19:17:27.265Z"
   },
   {
    "duration": 345,
    "start_time": "2025-03-10T19:17:27.291Z"
   },
   {
    "duration": 245,
    "start_time": "2025-03-10T19:17:27.640Z"
   },
   {
    "duration": 23,
    "start_time": "2025-03-10T19:17:27.887Z"
   },
   {
    "duration": 77,
    "start_time": "2025-03-10T19:17:27.912Z"
   },
   {
    "duration": 8,
    "start_time": "2025-03-10T19:17:27.990Z"
   },
   {
    "duration": 31,
    "start_time": "2025-03-10T19:17:27.999Z"
   },
   {
    "duration": 55,
    "start_time": "2025-03-10T19:17:28.032Z"
   },
   {
    "duration": 830,
    "start_time": "2025-04-01T18:53:12.193Z"
   },
   {
    "duration": 1103,
    "start_time": "2025-04-01T18:53:13.026Z"
   },
   {
    "duration": 390,
    "start_time": "2025-04-01T18:53:14.131Z"
   },
   {
    "duration": 55,
    "start_time": "2025-04-01T18:53:14.523Z"
   },
   {
    "duration": 318,
    "start_time": "2025-04-01T18:53:14.579Z"
   },
   {
    "duration": 580,
    "start_time": "2025-04-01T18:53:14.899Z"
   },
   {
    "duration": 193,
    "start_time": "2025-04-01T18:53:15.481Z"
   },
   {
    "duration": 48,
    "start_time": "2025-04-01T18:53:15.676Z"
   },
   {
    "duration": 214,
    "start_time": "2025-04-01T18:53:15.726Z"
   },
   {
    "duration": 6,
    "start_time": "2025-04-01T18:53:15.944Z"
   },
   {
    "duration": 49,
    "start_time": "2025-04-01T18:53:15.962Z"
   },
   {
    "duration": 174,
    "start_time": "2025-04-01T18:53:16.013Z"
   },
   {
    "duration": 529,
    "start_time": "2025-04-01T18:53:16.189Z"
   },
   {
    "duration": 73,
    "start_time": "2025-04-01T18:53:16.720Z"
   },
   {
    "duration": 31,
    "start_time": "2025-04-01T18:53:16.795Z"
   },
   {
    "duration": 6,
    "start_time": "2025-04-01T18:53:16.828Z"
   },
   {
    "duration": 92,
    "start_time": "2025-04-01T18:53:16.836Z"
   },
   {
    "duration": 5,
    "start_time": "2025-04-01T18:53:16.929Z"
   },
   {
    "duration": 10,
    "start_time": "2025-04-01T18:53:16.935Z"
   },
   {
    "duration": 13,
    "start_time": "2025-04-01T18:53:16.961Z"
   },
   {
    "duration": 6,
    "start_time": "2025-04-01T18:53:16.975Z"
   },
   {
    "duration": 15,
    "start_time": "2025-04-01T18:53:16.983Z"
   },
   {
    "duration": 192,
    "start_time": "2025-04-01T18:53:17.000Z"
   },
   {
    "duration": 13,
    "start_time": "2025-04-01T18:53:17.194Z"
   },
   {
    "duration": 4,
    "start_time": "2025-04-01T18:53:17.209Z"
   },
   {
    "duration": 20,
    "start_time": "2025-04-01T18:53:17.215Z"
   },
   {
    "duration": 455,
    "start_time": "2025-04-01T18:53:17.236Z"
   },
   {
    "duration": 253,
    "start_time": "2025-04-01T18:53:17.695Z"
   },
   {
    "duration": 13,
    "start_time": "2025-04-01T18:53:17.950Z"
   },
   {
    "duration": 56,
    "start_time": "2025-04-01T18:53:17.965Z"
   },
   {
    "duration": 7,
    "start_time": "2025-04-01T18:53:18.023Z"
   },
   {
    "duration": 34,
    "start_time": "2025-04-01T18:53:18.031Z"
   },
   {
    "duration": 73,
    "start_time": "2025-04-01T18:53:18.067Z"
   },
   {
    "duration": 688,
    "start_time": "2025-04-01T20:42:08.604Z"
   },
   {
    "duration": 2039,
    "start_time": "2025-04-01T20:42:09.294Z"
   },
   {
    "duration": 360,
    "start_time": "2025-04-01T20:42:11.335Z"
   },
   {
    "duration": 43,
    "start_time": "2025-04-01T20:42:11.696Z"
   },
   {
    "duration": 309,
    "start_time": "2025-04-01T20:42:11.741Z"
   },
   {
    "duration": 551,
    "start_time": "2025-04-01T20:42:12.052Z"
   },
   {
    "duration": 185,
    "start_time": "2025-04-01T20:42:12.605Z"
   },
   {
    "duration": 42,
    "start_time": "2025-04-01T20:42:12.791Z"
   },
   {
    "duration": 214,
    "start_time": "2025-04-01T20:42:12.835Z"
   },
   {
    "duration": 12,
    "start_time": "2025-04-01T20:42:13.051Z"
   },
   {
    "duration": 75,
    "start_time": "2025-04-01T20:42:13.065Z"
   },
   {
    "duration": 180,
    "start_time": "2025-04-01T20:42:13.142Z"
   },
   {
    "duration": 491,
    "start_time": "2025-04-01T20:42:13.323Z"
   },
   {
    "duration": 82,
    "start_time": "2025-04-01T20:42:13.817Z"
   },
   {
    "duration": 32,
    "start_time": "2025-04-01T20:42:13.901Z"
   },
   {
    "duration": 7,
    "start_time": "2025-04-01T20:42:13.935Z"
   },
   {
    "duration": 89,
    "start_time": "2025-04-01T20:42:13.944Z"
   },
   {
    "duration": 5,
    "start_time": "2025-04-01T20:42:14.035Z"
   },
   {
    "duration": 22,
    "start_time": "2025-04-01T20:42:14.041Z"
   },
   {
    "duration": 15,
    "start_time": "2025-04-01T20:42:14.064Z"
   },
   {
    "duration": 14,
    "start_time": "2025-04-01T20:42:14.081Z"
   },
   {
    "duration": 7,
    "start_time": "2025-04-01T20:42:14.097Z"
   },
   {
    "duration": 188,
    "start_time": "2025-04-01T20:42:14.106Z"
   },
   {
    "duration": 13,
    "start_time": "2025-04-01T20:42:14.295Z"
   },
   {
    "duration": 10,
    "start_time": "2025-04-01T20:42:14.310Z"
   },
   {
    "duration": 9,
    "start_time": "2025-04-01T20:42:14.322Z"
   },
   {
    "duration": 351,
    "start_time": "2025-04-01T20:42:14.332Z"
   },
   {
    "duration": 266,
    "start_time": "2025-04-01T20:42:14.685Z"
   },
   {
    "duration": 21,
    "start_time": "2025-04-01T20:42:14.953Z"
   },
   {
    "duration": 49,
    "start_time": "2025-04-01T20:42:14.976Z"
   },
   {
    "duration": 8,
    "start_time": "2025-04-01T20:42:15.027Z"
   },
   {
    "duration": 81,
    "start_time": "2025-04-01T20:42:15.037Z"
   },
   {
    "duration": 93,
    "start_time": "2025-04-01T20:42:15.120Z"
   }
  ],
  "colab": {
   "provenance": []
  },
  "kernelspec": {
   "display_name": "Python 3",
   "language": "python",
   "name": "python3"
  },
  "language_info": {
   "codemirror_mode": {
    "name": "ipython",
    "version": 3
   },
   "file_extension": ".py",
   "mimetype": "text/x-python",
   "name": "python",
   "nbconvert_exporter": "python",
   "pygments_lexer": "ipython3",
   "version": "3.13.0"
  },
  "toc": {
   "base_numbering": 1,
   "nav_menu": {},
   "number_sections": true,
   "sideBar": true,
   "skip_h1_title": true,
   "title_cell": "Table of Contents",
   "title_sidebar": "Contents",
   "toc_cell": false,
   "toc_position": {},
   "toc_section_display": true,
   "toc_window_display": false
  }
 },
 "nbformat": 4,
 "nbformat_minor": 1
}
